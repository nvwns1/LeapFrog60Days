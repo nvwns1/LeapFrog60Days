{
 "cells": [
  {
   "cell_type": "code",
   "execution_count": 1,
   "metadata": {},
   "outputs": [],
   "source": [
    "import numpy as np\n",
    "import pandas as pd\n",
    "import math\n",
    "\n",
    "from nltk.corpus import stopwords\n",
    "from nltk.tokenize import word_tokenize\n",
    "from nltk.stem import WordNetLemmatizer\n",
    "from nltk.stem.porter import PorterStemmer\n",
    "from nltk.corpus import wordnet\n",
    "\n",
    "from sklearn.feature_extraction.text import TfidfVectorizer\n",
    "from sklearn.feature_selection import chi2\n",
    "from sklearn.model_selection import train_test_split\n",
    "from sklearn.metrics import classification_report\n",
    "from sklearn.metrics import accuracy_score\n",
    "\n",
    "from sklearn.tree import DecisionTreeClassifier\n",
    "from sklearn.ensemble import RandomForestClassifier\n",
    "from sklearn.svm import SVC\n",
    "from sklearn.naive_bayes import MultinomialNB\n",
    "from sklearn.neighbors import KNeighborsClassifier\n",
    "from sklearn.model_selection import GridSearchCV\n",
    "from sklearn.metrics import classification_report\n",
    "from sklearn.metrics import accuracy_score\n",
    "from sklearn.metrics import confusion_matrix"
   ]
  },
  {
   "cell_type": "markdown",
   "metadata": {},
   "source": [
    "<h1>Loading Dataset</h1>"
   ]
  },
  {
   "cell_type": "code",
   "execution_count": 11,
   "metadata": {},
   "outputs": [],
   "source": [
    "df_train=pd.read_csv(\"../dataset/BBC News Train.csv\")\n",
    "df_test=pd.read_csv(\"../dataset/BBC News Test.csv\")"
   ]
  },
  {
   "cell_type": "markdown",
   "metadata": {},
   "source": [
    "<h2>PreProcessing</h2>"
   ]
  },
  {
   "cell_type": "code",
   "execution_count": 12,
   "metadata": {},
   "outputs": [
    {
     "data": {
      "text/html": [
       "<div>\n",
       "<style scoped>\n",
       "    .dataframe tbody tr th:only-of-type {\n",
       "        vertical-align: middle;\n",
       "    }\n",
       "\n",
       "    .dataframe tbody tr th {\n",
       "        vertical-align: top;\n",
       "    }\n",
       "\n",
       "    .dataframe thead th {\n",
       "        text-align: right;\n",
       "    }\n",
       "</style>\n",
       "<table border=\"1\" class=\"dataframe\">\n",
       "  <thead>\n",
       "    <tr style=\"text-align: right;\">\n",
       "      <th></th>\n",
       "      <th>ArticleId</th>\n",
       "      <th>Text</th>\n",
       "      <th>Category</th>\n",
       "    </tr>\n",
       "  </thead>\n",
       "  <tbody>\n",
       "    <tr>\n",
       "      <th>0</th>\n",
       "      <td>1833</td>\n",
       "      <td>worldcom ex-boss launches defence lawyers defe...</td>\n",
       "      <td>business</td>\n",
       "    </tr>\n",
       "    <tr>\n",
       "      <th>1</th>\n",
       "      <td>154</td>\n",
       "      <td>german business confidence slides german busin...</td>\n",
       "      <td>business</td>\n",
       "    </tr>\n",
       "    <tr>\n",
       "      <th>2</th>\n",
       "      <td>1101</td>\n",
       "      <td>bbc poll indicates economic gloom citizens in ...</td>\n",
       "      <td>business</td>\n",
       "    </tr>\n",
       "    <tr>\n",
       "      <th>3</th>\n",
       "      <td>1976</td>\n",
       "      <td>lifestyle  governs mobile choice  faster  bett...</td>\n",
       "      <td>tech</td>\n",
       "    </tr>\n",
       "    <tr>\n",
       "      <th>4</th>\n",
       "      <td>917</td>\n",
       "      <td>enron bosses in $168m payout eighteen former e...</td>\n",
       "      <td>business</td>\n",
       "    </tr>\n",
       "  </tbody>\n",
       "</table>\n",
       "</div>"
      ],
      "text/plain": [
       "   ArticleId                                               Text  Category\n",
       "0       1833  worldcom ex-boss launches defence lawyers defe...  business\n",
       "1        154  german business confidence slides german busin...  business\n",
       "2       1101  bbc poll indicates economic gloom citizens in ...  business\n",
       "3       1976  lifestyle  governs mobile choice  faster  bett...      tech\n",
       "4        917  enron bosses in $168m payout eighteen former e...  business"
      ]
     },
     "execution_count": 12,
     "metadata": {},
     "output_type": "execute_result"
    }
   ],
   "source": [
    "df_train.head()"
   ]
  },
  {
   "cell_type": "code",
   "execution_count": 13,
   "metadata": {},
   "outputs": [
    {
     "data": {
      "text/plain": [
       "ArticleId    0\n",
       "Text         0\n",
       "Category     0\n",
       "dtype: int64"
      ]
     },
     "execution_count": 13,
     "metadata": {},
     "output_type": "execute_result"
    }
   ],
   "source": [
    "df_train.isna().sum()\n",
    "#No Null value exists"
   ]
  },
  {
   "cell_type": "code",
   "execution_count": 14,
   "metadata": {},
   "outputs": [
    {
     "data": {
      "text/plain": [
       "['business', 'entertainment', 'politics', 'sport', 'tech']"
      ]
     },
     "execution_count": 14,
     "metadata": {},
     "output_type": "execute_result"
    }
   ],
   "source": [
    "Category_class=sorted(df_train[\"Category\"].unique())\n",
    "Category_class"
   ]
  },
  {
   "cell_type": "markdown",
   "metadata": {},
   "source": [
    "<h3>Maping</h3>"
   ]
  },
  {
   "cell_type": "code",
   "execution_count": 15,
   "metadata": {},
   "outputs": [],
   "source": [
    "mapping={'business':0, 'entertainment':1, 'politics':2, 'sport':3, 'tech':4}\n",
    "df_train['CategoryId']=df_train['Category'].map(mapping)\n"
   ]
  },
  {
   "cell_type": "code",
   "execution_count": 16,
   "metadata": {},
   "outputs": [
    {
     "data": {
      "text/html": [
       "<div>\n",
       "<style scoped>\n",
       "    .dataframe tbody tr th:only-of-type {\n",
       "        vertical-align: middle;\n",
       "    }\n",
       "\n",
       "    .dataframe tbody tr th {\n",
       "        vertical-align: top;\n",
       "    }\n",
       "\n",
       "    .dataframe thead th {\n",
       "        text-align: right;\n",
       "    }\n",
       "</style>\n",
       "<table border=\"1\" class=\"dataframe\">\n",
       "  <thead>\n",
       "    <tr style=\"text-align: right;\">\n",
       "      <th></th>\n",
       "      <th>ArticleId</th>\n",
       "      <th>Text</th>\n",
       "      <th>Category</th>\n",
       "      <th>CategoryId</th>\n",
       "    </tr>\n",
       "  </thead>\n",
       "  <tbody>\n",
       "    <tr>\n",
       "      <th>119</th>\n",
       "      <td>1249</td>\n",
       "      <td>o sullivan quick to hail italians ireland coac...</td>\n",
       "      <td>sport</td>\n",
       "      <td>3</td>\n",
       "    </tr>\n",
       "    <tr>\n",
       "      <th>443</th>\n",
       "      <td>1847</td>\n",
       "      <td>blind student  hears in colour  a blind studen...</td>\n",
       "      <td>tech</td>\n",
       "      <td>4</td>\n",
       "    </tr>\n",
       "    <tr>\n",
       "      <th>1043</th>\n",
       "      <td>1204</td>\n",
       "      <td>commodore finds new lease of life the once-fam...</td>\n",
       "      <td>tech</td>\n",
       "      <td>4</td>\n",
       "    </tr>\n",
       "    <tr>\n",
       "      <th>205</th>\n",
       "      <td>1878</td>\n",
       "      <td>sa unveils  more for all  budget the south afr...</td>\n",
       "      <td>business</td>\n",
       "      <td>0</td>\n",
       "    </tr>\n",
       "    <tr>\n",
       "      <th>1036</th>\n",
       "      <td>587</td>\n",
       "      <td>tautou  to star in da vinci film  french actre...</td>\n",
       "      <td>entertainment</td>\n",
       "      <td>1</td>\n",
       "    </tr>\n",
       "  </tbody>\n",
       "</table>\n",
       "</div>"
      ],
      "text/plain": [
       "      ArticleId                                               Text  \\\n",
       "119        1249  o sullivan quick to hail italians ireland coac...   \n",
       "443        1847  blind student  hears in colour  a blind studen...   \n",
       "1043       1204  commodore finds new lease of life the once-fam...   \n",
       "205        1878  sa unveils  more for all  budget the south afr...   \n",
       "1036        587  tautou  to star in da vinci film  french actre...   \n",
       "\n",
       "           Category  CategoryId  \n",
       "119           sport           3  \n",
       "443            tech           4  \n",
       "1043           tech           4  \n",
       "205        business           0  \n",
       "1036  entertainment           1  "
      ]
     },
     "execution_count": 16,
     "metadata": {},
     "output_type": "execute_result"
    }
   ],
   "source": [
    "df_train.sample(5)"
   ]
  },
  {
   "cell_type": "code",
   "execution_count": 17,
   "metadata": {},
   "outputs": [
    {
     "data": {
      "text/plain": [
       "Category\n",
       "business         336\n",
       "entertainment    273\n",
       "politics         274\n",
       "sport            346\n",
       "tech             261\n",
       "Name: CategoryId, dtype: int64"
      ]
     },
     "execution_count": 17,
     "metadata": {},
     "output_type": "execute_result"
    }
   ],
   "source": [
    "df_train.groupby('Category').CategoryId.count()"
   ]
  },
  {
   "cell_type": "markdown",
   "metadata": {},
   "source": [
    "<h3>Visualize</h3>"
   ]
  },
  {
   "cell_type": "code",
   "execution_count": 18,
   "metadata": {},
   "outputs": [
    {
     "data": {
      "text/plain": [
       "1024    krispy kreme shares hit shares in krispy kreme...\n",
       "100     honda wins china copyright ruling japan s hond...\n",
       "1094    no more concessions  on terror charles clarke ...\n",
       "614     berlin cheers for anti-nazi film a german movi...\n",
       "1230    low-budget film wins cesar a film that follows...\n",
       "Name: Text, dtype: object"
      ]
     },
     "execution_count": 18,
     "metadata": {},
     "output_type": "execute_result"
    }
   ],
   "source": [
    "df_train[\"Text\"].sample(5)"
   ]
  },
  {
   "cell_type": "markdown",
   "metadata": {},
   "source": [
    "<h3>PreProcessing Text</h3>"
   ]
  },
  {
   "cell_type": "code",
   "execution_count": 19,
   "metadata": {},
   "outputs": [],
   "source": [
    "def preprocess_text(text):\n",
    "    text=str(text)\n",
    "    #lowercasing\n",
    "    text=text.lower()\n",
    "    #Remove Stop Words\n",
    "    stop_words=set(stopwords.words('english'))\n",
    "    word_tokens = word_tokenize(text)\n",
    "    filtered_list = [w for w in word_tokens if not w in stop_words]\n",
    "    \n",
    "    \n",
    "    #Remove numbers and special Symbols\n",
    "    #words like 100m 2m were not removed so using this\n",
    "    num=['0','1','2','3','4','5','6','7','8','9']\n",
    "    num_filter=[]\n",
    "    for i in range(0,len(filtered_list)):\n",
    "        for j in range(0,len(num)):\n",
    "            if num[j] in filtered_list[i]:\n",
    "                num_filter.append(filtered_list[i])\n",
    "                break\n",
    "    \n",
    "    for filter in num_filter:\n",
    "        filtered_list.remove(filter)\n",
    "                \n",
    "    filtered_list = [w for w in filtered_list if w.isalnum()]\n",
    "    filtered_list=  [w for w in filtered_list if not w.isdigit()]\n",
    "    \n",
    "    \n",
    "    \n",
    "    #Lematizing\n",
    "    wordnet_lemmatizer=WordNetLemmatizer()\n",
    "    lemmatized_list=[wordnet_lemmatizer.lemmatize(w,wordnet.VERB) for w in filtered_list]\n",
    "    lemmatized_string=' '.join(lemmatized_list)\n",
    "    \n",
    "    return lemmatized_string"
   ]
  },
  {
   "cell_type": "code",
   "execution_count": 20,
   "metadata": {},
   "outputs": [
    {
     "name": "stdout",
     "output_type": "stream",
     "text": [
      "hey study car mountaining guide go go better bibek thapa\n"
     ]
    }
   ],
   "source": [
    "print(preprocess_text(\"Hey studys car's my, mountaining guidings going went better is Bibek's Thapa $ 45d\"))"
   ]
  },
  {
   "cell_type": "markdown",
   "metadata": {},
   "source": [
    "<h3>Analyzing Processed Text</h3>"
   ]
  },
  {
   "cell_type": "code",
   "execution_count": 21,
   "metadata": {},
   "outputs": [
    {
     "name": "stdout",
     "output_type": "stream",
     "text": [
      "bellamy under new fire newcastle boss graeme souness has reopened his dispute with craig bellamy after claiming the welshman was  not good enough  for the magpies. bellamy left newcastle to join celtic on loan after a major row with souness. souness - who refused to refer to the 25-year-old by name - said bellamy did not score enough goals  the chap that s just gone has scored 9.3 goals a season in his time in senior football - half of those weren t even in the top flight   said souness.  that s not good enough for a striker at a club like this.  we need to have two strikers who are near 20 goals on a regular basis.   bellamy turned down a move to birmingham in favour of joining celtic after a disagreement about the welsh international playing out of position quickly escalated. earlier in the week  souness had said that he risked losing the confidence of the players and damaging his own reputation if he had not taken a hard line after bellamy accused him of lying.   there are certain things you can forgive and forget   said souness.  but if i d been seen to be weak in this case there was no future for me with the players in the dressing room or any job i have after newcastle.  he could then return to st james  park - and he says that he wants to. however  it would seem unlikely he will play for newcastle again as long as souness remains in charge.\n",
      " \n",
      "bellamy new fire newcastle boss graeme souness reopen dispute craig bellamy claim welshman good enough magpies bellamy leave newcastle join celtic loan major row souness souness refuse refer name say bellamy score enough goals chap go score goals season time senior football half even top flight say souness good enough striker club like need two strikers near goals regular basis bellamy turn move birmingham favour join celtic disagreement welsh international play position quickly escalate earlier week souness say risk lose confidence players damage reputation take hard line bellamy accuse lie certain things forgive forget say souness see weak case future players dress room job newcastle could return st jam park say want however would seem unlikely play newcastle long souness remain charge\n",
      "\n",
      "Main Text Word Count : 273\n",
      "Processed Text Word Count : 122\n"
     ]
    }
   ],
   "source": [
    "def rand():\n",
    "    return np.random.binomial(n=1,p=0.01,size=[1])\n",
    "def count_word(word):\n",
    "    cnt=word.count(\" \")+1\n",
    "    return cnt\n",
    "count=0\n",
    "for i in range(0,len(df_train)):\n",
    "    if rand():\n",
    "        txt=df_train['Text'][i]\n",
    "        processed_txt=preprocess_text(df_train['Text'][i])\n",
    "        \n",
    "        print(txt+'\\n \\n'+processed_txt)\n",
    "        print(f\"\\nMain Text Word Count : {count_word(txt)}\\nProcessed Text Word Count : {count_word( processed_txt)}\")\n",
    "        count+=1\n",
    "    if count==1:\n",
    "        break\n",
    "    "
   ]
  },
  {
   "cell_type": "markdown",
   "metadata": {},
   "source": [
    "<h3>Apply Process Text in our column </h3>"
   ]
  },
  {
   "cell_type": "code",
   "execution_count": 22,
   "metadata": {},
   "outputs": [],
   "source": [
    "df_train['Text']=df_train['Text'].apply(preprocess_text)"
   ]
  },
  {
   "cell_type": "markdown",
   "metadata": {},
   "source": [
    "<h3>Transforming Text to Vectors for MultiClassification </h3>"
   ]
  },
  {
   "cell_type": "code",
   "execution_count": 23,
   "metadata": {},
   "outputs": [
    {
     "data": {
      "text/plain": [
       "(1490, 9663)"
      ]
     },
     "execution_count": 23,
     "metadata": {},
     "output_type": "execute_result"
    }
   ],
   "source": [
    "tfidf = TfidfVectorizer(sublinear_tf=True, min_df=5,ngram_range=(1,2))\n",
    "features = tfidf.fit_transform(df_train['Text']).toarray()\n",
    "features.shape"
   ]
  },
  {
   "cell_type": "code",
   "execution_count": 24,
   "metadata": {},
   "outputs": [
    {
     "name": "stdout",
     "output_type": "stream",
     "text": [
      "worldcom launch defence lawyers defend former worldcom chief bernie ebbers battery fraud charge call company whistleblower first witness cynthia cooper worldcom internal account alert directors irregular account practice us telecoms giant warn lead collapse firm follow discovery account fraud mr ebbers plead guilty charge fraud conspiracy prosecution lawyers argue mr ebbers orchestrate series account trick worldcom order employees hide expense inflate revenues meet wall street earn estimate ms cooper run consult business tell jury new york wednesday external auditors arthur andersen approve worldcom account early say andersen give green light procedures practice use worldcom mr ebber lawyers say unaware fraud argue auditors alert problems ms cooper also say shareholder meet mr ebbers often pass technical question company finance chief give brief answer prosecution star witness former worldcom financial chief scott sullivan say mr ebbers order account adjustments firm tell hit book however ms cooper say mr sullivan mention anything uncomfortable worldcom account audit committee meet mr ebbers could face jail sentence years convict charge face worldcom emerge bankruptcy protection know mci last week mci agree buyout verizon communications deal value\n",
      "business\n"
     ]
    }
   ],
   "source": [
    "print(df_train['Text'][0])\n",
    "print(df_train['Category'][0])"
   ]
  },
  {
   "cell_type": "code",
   "execution_count": 25,
   "metadata": {},
   "outputs": [
    {
     "name": "stdout",
     "output_type": "stream",
     "text": [
      "4597\n",
      "56\n"
     ]
    }
   ],
   "source": [
    "print(tfidf.vocabulary_['lawyers'])\n",
    "print(tfidf.vocabulary_['account'])"
   ]
  },
  {
   "cell_type": "code",
   "execution_count": 26,
   "metadata": {},
   "outputs": [
    {
     "name": "stdout",
     "output_type": "stream",
     "text": [
      "0.15094653115575096\n",
      "0.14644847942451855\n"
     ]
    }
   ],
   "source": [
    "print(features[0][4597])\n",
    "print(features[0][56])"
   ]
  },
  {
   "cell_type": "markdown",
   "metadata": {},
   "source": [
    "<h3>Displaying highly correlated words in categories </h3>"
   ]
  },
  {
   "cell_type": "code",
   "execution_count": 27,
   "metadata": {},
   "outputs": [
    {
     "name": "stdout",
     "output_type": "stream",
     "text": [
      "Category : business\n",
      "    Most Correlated Unigrams  :  trade, shareholders, financial, export, stock, investment, investors, rise, analysts, price, company, share, firm, market, economic, economy, profit, oil, growth, bank\n",
      "    Most Correlated Bigrams   :  price rise, securities exchange, exchange commission, oil giant, share price, tell reuters, year earlier, us dollar, central bank, interest rate, fourth quarter, bank england, stock exchange, consumer spend, chief executive, interest rat, oil price, stock market, economic growth, analysts say\n",
      "\n",
      "Category : entertainment\n",
      "    Most Correlated Unigrams  :  nominate, theatre, movie, drama, nominations, hollywood, musical, song, chart, oscar, comedy, festival, actress, band, singer, album, actor, award, star, film\n",
      "    Most Correlated Bigrams   :  film include, nominate best, us tv, single chart, film star, best support, award best, vera drake, make film, best actor, best director, million dollar, dollar baby, best actress, academy award, film festival, name best, best film, los angeles, box office\n",
      "\n",
      "Category : politics\n",
      "    Most Correlated Unigrams  :  dems, commons, howard, lord, mps, government, tony, liberal, chancellor, prime, leader, lib, secretary, tory, tories, minister, party, blair, election, labour\n",
      "    Most Correlated Bigrams   :  leader michael, down street, council tax, tory leader, election campaign, mr kennedy, labour party, gordon brown, lib dem, home secretary, blair say, liberal democrats, lib dems, mr howard, michael howard, mr brown, general election, prime minister, tony blair, mr blair\n",
      "\n",
      "Category : sport\n",
      "    Most Correlated Unigrams  :  defeat, seed, club, olympic, team, victory, england, game, league, arsenal, side, rugby, season, win, injury, chelsea, match, coach, cup, champion\n",
      "    Most Correlated Bigrams   :  next season, top seed, european indoor, cross country, lleyton hewitt, cup final, last season, french open, drug test, olympic champion, manchester unite, real madrid, bbc sport, davis cup, world number, world cup, champion league, grand slam, australian open, six nations\n",
      "\n",
      "Category : tech\n",
      "    Most Correlated Unigrams  :  use, websites, mobiles, console, internet, net, machine, program, broadband, pc, web, online, phone, mobile, digital, microsoft, computer, technology, software, users\n",
      "    Most Correlated Bigrams   :  internet explorer, computer users, next generation, digital music, net users, camera phone, malicious program, search engine, microsoft say, digital cameras, music players, operate system, security firm, game console, consumer electronics, news website, people use, hard drive, let people, mobile phone\n",
      "\n"
     ]
    }
   ],
   "source": [
    "N = 20\n",
    "category_id_df = df_train[['Category', 'CategoryId']].drop_duplicates()\n",
    "category_id=dict(category_id_df.values)\n",
    "labels=df_train['CategoryId']\n",
    "\n",
    "for Category, category_id in sorted(category_id.items()):\n",
    "  features_chi2 = chi2(features, labels == category_id)\n",
    "  indices = np.argsort(features_chi2[0])\n",
    "  feature_names = np.array(tfidf.get_feature_names_out())[indices]\n",
    "  unigrams = [v for v in feature_names if len(v.split(' ')) == 1]\n",
    "  bigrams = [v for v in feature_names if len(v.split(' ')) == 2]\n",
    "  print(f\"Category : {Category}\")\n",
    "  print(f\"    Most Correlated Unigrams  :  {(', '.join(unigrams[-N:]))}\")\n",
    "  print(f\"    Most Correlated Bigrams   :  {(', '.join(bigrams[-N:]))}\")\n",
    "  print(\"\")"
   ]
  },
  {
   "cell_type": "code",
   "execution_count": 28,
   "metadata": {},
   "outputs": [
    {
     "data": {
      "text/html": [
       "<div>\n",
       "<style scoped>\n",
       "    .dataframe tbody tr th:only-of-type {\n",
       "        vertical-align: middle;\n",
       "    }\n",
       "\n",
       "    .dataframe tbody tr th {\n",
       "        vertical-align: top;\n",
       "    }\n",
       "\n",
       "    .dataframe thead th {\n",
       "        text-align: right;\n",
       "    }\n",
       "</style>\n",
       "<table border=\"1\" class=\"dataframe\">\n",
       "  <thead>\n",
       "    <tr style=\"text-align: right;\">\n",
       "      <th></th>\n",
       "      <th>ArticleId</th>\n",
       "      <th>Text</th>\n",
       "      <th>Category</th>\n",
       "      <th>CategoryId</th>\n",
       "    </tr>\n",
       "  </thead>\n",
       "  <tbody>\n",
       "    <tr>\n",
       "      <th>0</th>\n",
       "      <td>1833</td>\n",
       "      <td>worldcom launch defence lawyers defend former ...</td>\n",
       "      <td>business</td>\n",
       "      <td>0</td>\n",
       "    </tr>\n",
       "    <tr>\n",
       "      <th>1</th>\n",
       "      <td>154</td>\n",
       "      <td>german business confidence slide german busine...</td>\n",
       "      <td>business</td>\n",
       "      <td>0</td>\n",
       "    </tr>\n",
       "    <tr>\n",
       "      <th>2</th>\n",
       "      <td>1101</td>\n",
       "      <td>bbc poll indicate economic gloom citizens majo...</td>\n",
       "      <td>business</td>\n",
       "      <td>0</td>\n",
       "    </tr>\n",
       "    <tr>\n",
       "      <th>3</th>\n",
       "      <td>1976</td>\n",
       "      <td>lifestyle govern mobile choice faster better f...</td>\n",
       "      <td>tech</td>\n",
       "      <td>4</td>\n",
       "    </tr>\n",
       "    <tr>\n",
       "      <th>4</th>\n",
       "      <td>917</td>\n",
       "      <td>enron boss payout eighteen former enron direct...</td>\n",
       "      <td>business</td>\n",
       "      <td>0</td>\n",
       "    </tr>\n",
       "  </tbody>\n",
       "</table>\n",
       "</div>"
      ],
      "text/plain": [
       "   ArticleId                                               Text  Category  \\\n",
       "0       1833  worldcom launch defence lawyers defend former ...  business   \n",
       "1        154  german business confidence slide german busine...  business   \n",
       "2       1101  bbc poll indicate economic gloom citizens majo...  business   \n",
       "3       1976  lifestyle govern mobile choice faster better f...      tech   \n",
       "4        917  enron boss payout eighteen former enron direct...  business   \n",
       "\n",
       "   CategoryId  \n",
       "0           0  \n",
       "1           0  \n",
       "2           0  \n",
       "3           4  \n",
       "4           0  "
      ]
     },
     "execution_count": 28,
     "metadata": {},
     "output_type": "execute_result"
    }
   ],
   "source": [
    "df_train.head()"
   ]
  },
  {
   "cell_type": "markdown",
   "metadata": {},
   "source": [
    "<h3>Train Test Split</h3>"
   ]
  },
  {
   "cell_type": "code",
   "execution_count": 29,
   "metadata": {},
   "outputs": [],
   "source": [
    "x=features\n",
    "y=df_train.loc[:,'CategoryId'].values\n",
    "train_x,test_x,train_y,test_y=train_test_split(x,y,test_size=0.2,random_state=100)"
   ]
  },
  {
   "cell_type": "markdown",
   "metadata": {},
   "source": [
    "<h2>Hyper Tuning</h2>"
   ]
  },
  {
   "cell_type": "code",
   "execution_count": 32,
   "metadata": {},
   "outputs": [],
   "source": [
    "svc=SVC()\n",
    "knn=KNeighborsClassifier()\n",
    "dtc=DecisionTreeClassifier()\n",
    "mb=MultinomialNB()\n",
    "rtc=RandomForestClassifier()"
   ]
  },
  {
   "cell_type": "code",
   "execution_count": 33,
   "metadata": {},
   "outputs": [],
   "source": [
    "models={'svc':svc,'knn':knn,'dtc':dtc,'mb':mb,'rtc':rtc}"
   ]
  },
  {
   "cell_type": "code",
   "execution_count": 34,
   "metadata": {},
   "outputs": [],
   "source": [
    "params={\n",
    "    'knn': \n",
    "        {'n_neighbors':[3,5,7,9,11,13,15],\n",
    "        'metric':['cosine','euclidean','manhattan'],\n",
    "        'weights':['uniform','distance']},\n",
    "    \n",
    "    'svc': {'C':[0.1,1,10,100], \n",
    "            'gamma':[1,0.1,0.01,0.01], \n",
    "            'kernel':['rbf','linear']},\n",
    "    \n",
    "    'dtc':{\n",
    "        'criterion':['gini','entropy'],\n",
    "        'max_depth':[2,4,6,8,10,12]\n",
    "    },\n",
    "    \n",
    "    'mb':{\n",
    "        'alpha': [1.0,2.0],\n",
    "    'fit_prior': [True]\n",
    "    },\n",
    "    'rtc':{\n",
    "        'criterion':['gini','entropy'],\n",
    "        'max_depth':[2,4,6,8,10,12]\n",
    "    }\n",
    "}"
   ]
  },
  {
   "cell_type": "code",
   "execution_count": 36,
   "metadata": {},
   "outputs": [],
   "source": [
    "model_accuracy={}\n",
    "score=0.0001\n",
    "for model in models.keys():\n",
    "    mod = GridSearchCV(\n",
    "    models[model],\n",
    "    params[model],\n",
    "    verbose=0, #Progress bar showing\n",
    "    cv=5, #cross validation\n",
    "    n_jobs=-1, #cores to assign\n",
    ")\n",
    "    gridsearch_result=mod.fit(train_x,train_y)\n",
    "    \n",
    "    #selects best model\n",
    "    if(score < float(gridsearch_result.score(test_x,test_y))):\n",
    "            score=gridsearch_result.score(test_x,test_y)\n",
    "            best_model=gridsearch_result\n",
    "            \n",
    "    predict=mod.predict(test_x)\n",
    "    print(f\"{model} : \",gridsearch_result.best_estimator_)\n",
    "    if model not in model_accuracy.keys():\n",
    "        model_accuracy.update({model:accuracy_score(test_y,predict)})"
   ]
  },
  {
   "cell_type": "code",
   "execution_count": null,
   "metadata": {},
   "outputs": [
    {
     "data": {
      "text/plain": [
       "{'svc': 0.9798657718120806,\n",
       " 'knn': 0.9563758389261745,\n",
       " 'dtc': 0.7449664429530202,\n",
       " 'mb': 0.9563758389261745,\n",
       " 'rtc': 0.9261744966442953}"
      ]
     },
     "execution_count": 26,
     "metadata": {},
     "output_type": "execute_result"
    }
   ],
   "source": [
    "model_accuracy"
   ]
  },
  {
   "cell_type": "code",
   "execution_count": null,
   "metadata": {},
   "outputs": [
    {
     "name": "stdout",
     "output_type": "stream",
     "text": [
      "SVC(C=10, gamma=1, kernel='linear')\n"
     ]
    },
    {
     "data": {
      "text/plain": [
       "0.9823775535318731"
      ]
     },
     "execution_count": 27,
     "metadata": {},
     "output_type": "execute_result"
    }
   ],
   "source": [
    "print(best_model.best_estimator_)\n",
    "best_model.best_score_"
   ]
  },
  {
   "cell_type": "markdown",
   "metadata": {},
   "source": [
    "### Making Model on best Param"
   ]
  },
  {
   "cell_type": "code",
   "execution_count": 37,
   "metadata": {},
   "outputs": [],
   "source": [
    "model=SVC(kernel='linear',C=10,gamma=1,probability=True)"
   ]
  },
  {
   "cell_type": "code",
   "execution_count": 55,
   "metadata": {},
   "outputs": [
    {
     "data": {
      "text/plain": [
       "(1192, 9663)"
      ]
     },
     "execution_count": 55,
     "metadata": {},
     "output_type": "execute_result"
    }
   ],
   "source": [
    "train_x.shape"
   ]
  },
  {
   "cell_type": "code",
   "execution_count": 38,
   "metadata": {},
   "outputs": [
    {
     "data": {
      "text/html": [
       "<style>#sk-container-id-1 {color: black;}#sk-container-id-1 pre{padding: 0;}#sk-container-id-1 div.sk-toggleable {background-color: white;}#sk-container-id-1 label.sk-toggleable__label {cursor: pointer;display: block;width: 100%;margin-bottom: 0;padding: 0.3em;box-sizing: border-box;text-align: center;}#sk-container-id-1 label.sk-toggleable__label-arrow:before {content: \"▸\";float: left;margin-right: 0.25em;color: #696969;}#sk-container-id-1 label.sk-toggleable__label-arrow:hover:before {color: black;}#sk-container-id-1 div.sk-estimator:hover label.sk-toggleable__label-arrow:before {color: black;}#sk-container-id-1 div.sk-toggleable__content {max-height: 0;max-width: 0;overflow: hidden;text-align: left;background-color: #f0f8ff;}#sk-container-id-1 div.sk-toggleable__content pre {margin: 0.2em;color: black;border-radius: 0.25em;background-color: #f0f8ff;}#sk-container-id-1 input.sk-toggleable__control:checked~div.sk-toggleable__content {max-height: 200px;max-width: 100%;overflow: auto;}#sk-container-id-1 input.sk-toggleable__control:checked~label.sk-toggleable__label-arrow:before {content: \"▾\";}#sk-container-id-1 div.sk-estimator input.sk-toggleable__control:checked~label.sk-toggleable__label {background-color: #d4ebff;}#sk-container-id-1 div.sk-label input.sk-toggleable__control:checked~label.sk-toggleable__label {background-color: #d4ebff;}#sk-container-id-1 input.sk-hidden--visually {border: 0;clip: rect(1px 1px 1px 1px);clip: rect(1px, 1px, 1px, 1px);height: 1px;margin: -1px;overflow: hidden;padding: 0;position: absolute;width: 1px;}#sk-container-id-1 div.sk-estimator {font-family: monospace;background-color: #f0f8ff;border: 1px dotted black;border-radius: 0.25em;box-sizing: border-box;margin-bottom: 0.5em;}#sk-container-id-1 div.sk-estimator:hover {background-color: #d4ebff;}#sk-container-id-1 div.sk-parallel-item::after {content: \"\";width: 100%;border-bottom: 1px solid gray;flex-grow: 1;}#sk-container-id-1 div.sk-label:hover label.sk-toggleable__label {background-color: #d4ebff;}#sk-container-id-1 div.sk-serial::before {content: \"\";position: absolute;border-left: 1px solid gray;box-sizing: border-box;top: 0;bottom: 0;left: 50%;z-index: 0;}#sk-container-id-1 div.sk-serial {display: flex;flex-direction: column;align-items: center;background-color: white;padding-right: 0.2em;padding-left: 0.2em;position: relative;}#sk-container-id-1 div.sk-item {position: relative;z-index: 1;}#sk-container-id-1 div.sk-parallel {display: flex;align-items: stretch;justify-content: center;background-color: white;position: relative;}#sk-container-id-1 div.sk-item::before, #sk-container-id-1 div.sk-parallel-item::before {content: \"\";position: absolute;border-left: 1px solid gray;box-sizing: border-box;top: 0;bottom: 0;left: 50%;z-index: -1;}#sk-container-id-1 div.sk-parallel-item {display: flex;flex-direction: column;z-index: 1;position: relative;background-color: white;}#sk-container-id-1 div.sk-parallel-item:first-child::after {align-self: flex-end;width: 50%;}#sk-container-id-1 div.sk-parallel-item:last-child::after {align-self: flex-start;width: 50%;}#sk-container-id-1 div.sk-parallel-item:only-child::after {width: 0;}#sk-container-id-1 div.sk-dashed-wrapped {border: 1px dashed gray;margin: 0 0.4em 0.5em 0.4em;box-sizing: border-box;padding-bottom: 0.4em;background-color: white;}#sk-container-id-1 div.sk-label label {font-family: monospace;font-weight: bold;display: inline-block;line-height: 1.2em;}#sk-container-id-1 div.sk-label-container {text-align: center;}#sk-container-id-1 div.sk-container {/* jupyter's `normalize.less` sets `[hidden] { display: none; }` but bootstrap.min.css set `[hidden] { display: none !important; }` so we also need the `!important` here to be able to override the default hidden behavior on the sphinx rendered scikit-learn.org. See: https://github.com/scikit-learn/scikit-learn/issues/21755 */display: inline-block !important;position: relative;}#sk-container-id-1 div.sk-text-repr-fallback {display: none;}</style><div id=\"sk-container-id-1\" class=\"sk-top-container\"><div class=\"sk-text-repr-fallback\"><pre>SVC(C=10, gamma=1, kernel=&#x27;linear&#x27;, probability=True)</pre><b>In a Jupyter environment, please rerun this cell to show the HTML representation or trust the notebook. <br />On GitHub, the HTML representation is unable to render, please try loading this page with nbviewer.org.</b></div><div class=\"sk-container\" hidden><div class=\"sk-item\"><div class=\"sk-estimator sk-toggleable\"><input class=\"sk-toggleable__control sk-hidden--visually\" id=\"sk-estimator-id-1\" type=\"checkbox\" checked><label for=\"sk-estimator-id-1\" class=\"sk-toggleable__label sk-toggleable__label-arrow\">SVC</label><div class=\"sk-toggleable__content\"><pre>SVC(C=10, gamma=1, kernel=&#x27;linear&#x27;, probability=True)</pre></div></div></div></div></div>"
      ],
      "text/plain": [
       "SVC(C=10, gamma=1, kernel='linear', probability=True)"
      ]
     },
     "execution_count": 38,
     "metadata": {},
     "output_type": "execute_result"
    }
   ],
   "source": [
    "model.fit(train_x,train_y)"
   ]
  },
  {
   "cell_type": "code",
   "execution_count": 39,
   "metadata": {},
   "outputs": [
    {
     "name": "stdout",
     "output_type": "stream",
     "text": [
      "Train Accuracy Score : 100\n",
      "Test Accuracy Score  : 98\n",
      "\n",
      "               precision    recall  f1-score   support\n",
      "\n",
      "     business       1.00      0.98      0.99        65\n",
      "entertainment       0.95      0.98      0.97        57\n",
      "     politics       0.95      0.98      0.97        59\n",
      "        sport       1.00      1.00      1.00        61\n",
      "         tech       1.00      0.95      0.97        56\n",
      "\n",
      "     accuracy                           0.98       298\n",
      "    macro avg       0.98      0.98      0.98       298\n",
      " weighted avg       0.98      0.98      0.98       298\n",
      "\n"
     ]
    }
   ],
   "source": [
    "test_predict = model.predict(test_x)\n",
    "train_accuracy = round(model.score(train_x,train_y)*100)\n",
    "test_accuracy =round(accuracy_score(test_predict, test_y)*100)\n",
    "\n",
    "print(f\"Train Accuracy Score : {train_accuracy}\")\n",
    "print(f\"Test Accuracy Score  : {test_accuracy}\")\n",
    "print()\n",
    "print(classification_report(test_predict, test_y, target_names=Category_class))"
   ]
  },
  {
   "cell_type": "markdown",
   "metadata": {},
   "source": [
    "<h3>Predicting Text by Converting Text to Rough Tf-IDF</h3>\n"
   ]
  },
  {
   "cell_type": "markdown",
   "metadata": {},
   "source": [
    "# Save Models"
   ]
  },
  {
   "cell_type": "code",
   "execution_count": 2,
   "metadata": {},
   "outputs": [],
   "source": [
    "import pickle\n",
    "import joblib"
   ]
  },
  {
   "cell_type": "code",
   "execution_count": 41,
   "metadata": {},
   "outputs": [
    {
     "data": {
      "text/plain": [
       "['model/news_clasification.pkl']"
      ]
     },
     "execution_count": 41,
     "metadata": {},
     "output_type": "execute_result"
    }
   ],
   "source": [
    "joblib.dump(tfidf,'model/tfidf.pkl')\n",
    "\n",
    "joblib.dump(model,'model/news_clasification.pkl')"
   ]
  },
  {
   "cell_type": "code",
   "execution_count": 4,
   "metadata": {},
   "outputs": [
    {
     "name": "stderr",
     "output_type": "stream",
     "text": [
      "c:\\Users\\user\\anaconda3\\envs\\primeai\\Lib\\site-packages\\sklearn\\base.py:376: InconsistentVersionWarning: Trying to unpickle estimator SVC from version 1.3.2 when using version 1.4.2. This might lead to breaking code or invalid results. Use at your own risk. For more info please refer to:\n",
      "https://scikit-learn.org/stable/model_persistence.html#security-maintainability-limitations\n",
      "  warnings.warn(\n",
      "c:\\Users\\user\\anaconda3\\envs\\primeai\\Lib\\site-packages\\sklearn\\base.py:376: InconsistentVersionWarning: Trying to unpickle estimator TfidfTransformer from version 1.3.2 when using version 1.4.2. This might lead to breaking code or invalid results. Use at your own risk. For more info please refer to:\n",
      "https://scikit-learn.org/stable/model_persistence.html#security-maintainability-limitations\n",
      "  warnings.warn(\n",
      "c:\\Users\\user\\anaconda3\\envs\\primeai\\Lib\\site-packages\\sklearn\\base.py:376: InconsistentVersionWarning: Trying to unpickle estimator TfidfVectorizer from version 1.3.2 when using version 1.4.2. This might lead to breaking code or invalid results. Use at your own risk. For more info please refer to:\n",
      "https://scikit-learn.org/stable/model_persistence.html#security-maintainability-limitations\n",
      "  warnings.warn(\n"
     ]
    }
   ],
   "source": [
    "model=joblib.load('../model/news_classification.pkl')\n",
    "tf_idf = joblib.load('../model/tfidf.pkl')"
   ]
  },
  {
   "cell_type": "code",
   "execution_count": 7,
   "metadata": {},
   "outputs": [],
   "source": [
    "def predict_news(txt):\n",
    "    #process text\n",
    "    text=preprocess_text(txt)\n",
    "    \n",
    "    #calculate tfidf\n",
    "    tf_idf=tfidf.transform([text])\n",
    "\n",
    "    tf_idf=tf_idf.toarray().squeeze()\n",
    "\n",
    "    #Validate if it is actually news\n",
    "    if count_word(txt)<100:\n",
    "        print(\"Cannot classify\")\n",
    "    else:\n",
    "        index=model.predict([tf_idf])\n",
    "        print(model.predict_proba([tf_idf]))\n",
    "        print(Category_class[int(index)])"
   ]
  },
  {
   "cell_type": "code",
   "execution_count": 30,
   "metadata": {},
   "outputs": [
    {
     "name": "stdout",
     "output_type": "stream",
     "text": [
      "[[3.98540026e-06 9.98541929e-01 3.55615394e-04 3.14534852e-04\n",
      "  7.83935127e-04]]\n",
      "entertainment\n"
     ]
    },
    {
     "name": "stderr",
     "output_type": "stream",
     "text": [
      "C:\\Users\\user\\AppData\\Local\\Temp\\ipykernel_21256\\2650697236.py:16: DeprecationWarning: Conversion of an array with ndim > 0 to a scalar is deprecated, and will error in future. Ensure you extract a single element from your array before performing this operation. (Deprecated NumPy 1.25.)\n",
      "  print(Category_class[int(index)])\n"
     ]
    }
   ],
   "source": [
    "predict_news(\"fox  too reliant on reality tv  the head of us tv network fox has admitted the broadcaster had relied too heavily on reality tv shows such as the poor-rating who s your daddy.  chief executive gail berman said  in the case of this fall we drifted to too much on the unscripted side . the series who s your daddy  where a young woman tries to pick her natural father for a cash prize caused outrage from adoption groups and rated badly. last season  fox s prime-time audience fell by 600 000 to 5.9 million. ms berman said:  i think the audience expects loud things from fox. sometimes they work  and sometimes they don t.   who s your daddy  the first episode of which was shown on 3 january  pulled in a disappointing audience of 6.3 million  according to the nielsen ratings system. five other episodes of the show had also been filmed will be dropped from fox s schedules  ms berman said. she was predicting a drop in ratings even for some of the network s established reality shows  such as american idol  which is due to start its fourth series this week. fox had unveiled a new strategy last year promising to launch new shows every season  including the traditionally quiet summer season. though that had met with a poor reception  ms berman said  there s no question that the audience  in our mind  is ready  willing and able to accept new programming in the summer . fox has changed this plan  launching new shows in may instead of june. one of the new shows will be the animated series american dad  made by seth macfarlane  the creator of family guy. that series  after becoming a hit on dvd  is also set to return with new episodes.\")"
   ]
  },
  {
   "cell_type": "code",
   "execution_count": 31,
   "metadata": {},
   "outputs": [
    {
     "name": "stdout",
     "output_type": "stream",
     "text": [
      "[[0.03227003 0.03994266 0.00899952 0.91239309 0.0063947 ]]\n",
      "sport\n"
     ]
    },
    {
     "name": "stderr",
     "output_type": "stream",
     "text": [
      "C:\\Users\\user\\AppData\\Local\\Temp\\ipykernel_21256\\2650697236.py:16: DeprecationWarning: Conversion of an array with ndim > 0 to a scalar is deprecated, and will error in future. Ensure you extract a single element from your array before performing this operation. (Deprecated NumPy 1.25.)\n",
      "  print(Category_class[int(index)])\n"
     ]
    }
   ],
   "source": [
    "predict_news(\"qpr keeper day heads for preston queens park rangers keeper chris day is set to join preston on a month s loan.  day has been displaced by the arrival of simon royce  who is in his second month on loan from charlton. qpr have also signed italian generoso rossi. r s manager ian holloway said:  some might say it s a risk as he can t be recalled during that month and simon royce can now be recalled by charlton.  but i have other irons in the fire. i have had a  yes  from a couple of others should i need them.   day s rangers contract expires in the summer. meanwhile  holloway is hoping to complete the signing of middlesbrough defender andy davies - either permanently or again on loan - before saturday s match at ipswich. davies impressed during a recent loan spell at loftus road. holloway is also chasing bristol city midfielder tom doherty.\")"
   ]
  },
  {
   "cell_type": "code",
   "execution_count": 32,
   "metadata": {},
   "outputs": [
    {
     "name": "stdout",
     "output_type": "stream",
     "text": [
      "[[2.23596341e-08 1.50582592e-08 9.99918730e-01 2.68923271e-05\n",
      "  5.43406237e-05]]\n",
      "politics\n"
     ]
    },
    {
     "name": "stderr",
     "output_type": "stream",
     "text": [
      "C:\\Users\\user\\AppData\\Local\\Temp\\ipykernel_21256\\2650697236.py:16: DeprecationWarning: Conversion of an array with ndim > 0 to a scalar is deprecated, and will error in future. Ensure you extract a single element from your array before performing this operation. (Deprecated NumPy 1.25.)\n",
      "  print(Category_class[int(index)])\n"
     ]
    }
   ],
   "source": [
    "predict_news(\"eu referendum question unveiled the question to be asked in the referendum on the eu constitution has been unveiled by the government.  it will be:  should the united kingdom approve the treaty establishing a constitution for the european union   the constitution will be incorporated into uk law if there is a yes vote in the referendum  expected in 2006. critics say the constitution is a further step towards a federal europe  but advocates say it ensures effective operation of the enlarged 25-state eu.  if we reject this treaty  britain will be isolated and weak in europe   said foreign secretary jack straw  who along with the rest of the cabinet  will back a  yes  vote.  patriots by definition wanted the uk to be prosperous at home and strong and influential abroad  mr straw said.  our role as a leading member of the eu is a crucial part of securing that.   conservative shadow foreign secretary michael ancram said the referendum question  seems straightforward . but he accused the government of trying to confuse the issue by putting the eu referendum question in the same bill as the ratification of the constitution  when they should be treated as  two separate issues . despite this  underhand trick   the referendum bill stood  no chance of becoming law before the election   he added.  this is tony blair s cheap gesture to the pro-constitution lobby while he runs scared of a debate on europe he knows he cannot win.  neil o brien  director of anti-constitution group vote no  said:  the reality is that the government doesn t want to discuss the eu constitution ahead of the election because they know it is extremely unpopular with voters and with business.   the uk independence party said:  if the government believes that a no vote would mean that we should leave the european union  they should just ask us if we want to leave the eu. then we can be out of it and better off much sooner.   liberal democrat leader charles kennedy  who backs the constitution  said he expected the referendum would come in the first half of next year. he told bbc radio 4 s today programme:  the sooner we get on with this  the better.  he said the question sounded  very neutral  and  balanced   adding it would enable the argument  to be enjoined fairly and squarely on both sides . green mep caroline lucas welcomed tony blair s  courage in keeping his word  on holding a referendum. but she added:  this treaty is a flawed document that will make the eu less accountable  less sustainable  and less just.   mr blair signed the constitution at a ceremony in rome in november  but had already made it clear the issue would be put to voters in a referendum. that promise came after sustained pressure from opposition parties. jack straw  who argues the constitution reflected a  british vision for europe  and gives  national governments a stronger grip   has said the referendum could be held in spring 2006. but in an interview with the financial times  mr blair refused to be pinned down to that date  saying britain would hold a poll  some time in 2006 but when  i don t know . the paper said the prime minister  claimed ignorance  of when other countries were planning to hold their referendums.\")"
   ]
  },
  {
   "cell_type": "code",
   "execution_count": 33,
   "metadata": {},
   "outputs": [
    {
     "name": "stdout",
     "output_type": "stream",
     "text": [
      "[[2.23596341e-08 1.50582592e-08 9.99918730e-01 2.68923271e-05\n",
      "  5.43406237e-05]]\n",
      "politics\n"
     ]
    },
    {
     "name": "stderr",
     "output_type": "stream",
     "text": [
      "C:\\Users\\user\\AppData\\Local\\Temp\\ipykernel_21256\\2650697236.py:16: DeprecationWarning: Conversion of an array with ndim > 0 to a scalar is deprecated, and will error in future. Ensure you extract a single element from your array before performing this operation. (Deprecated NumPy 1.25.)\n",
      "  print(Category_class[int(index)])\n"
     ]
    }
   ],
   "source": [
    "predict_news(\"eu referendum question unveiled the question to be asked in the referendum on the eu constitution has been unveiled by the government.  it will be:  should the united kingdom approve the treaty establishing a constitution for the european union   the constitution will be incorporated into uk law if there is a yes vote in the referendum  expected in 2006. critics say the constitution is a further step towards a federal europe  but advocates say it ensures effective operation of the enlarged 25-state eu.  if we reject this treaty  britain will be isolated and weak in europe   said foreign secretary jack straw  who along with the rest of the cabinet  will back a  yes  vote.  patriots by definition wanted the uk to be prosperous at home and strong and influential abroad  mr straw said.  our role as a leading member of the eu is a crucial part of securing that.   conservative shadow foreign secretary michael ancram said the referendum question  seems straightforward . but he accused the government of trying to confuse the issue by putting the eu referendum question in the same bill as the ratification of the constitution  when they should be treated as  two separate issues . despite this  underhand trick   the referendum bill stood  no chance of becoming law before the election   he added.  this is tony blair s cheap gesture to the pro-constitution lobby while he runs scared of a debate on europe he knows he cannot win.  neil o brien  director of anti-constitution group vote no  said:  the reality is that the government doesn t want to discuss the eu constitution ahead of the election because they know it is extremely unpopular with voters and with business.   the uk independence party said:  if the government believes that a no vote would mean that we should leave the european union  they should just ask us if we want to leave the eu. then we can be out of it and better off much sooner.   liberal democrat leader charles kennedy  who backs the constitution  said he expected the referendum would come in the first half of next year. he told bbc radio 4 s today programme:  the sooner we get on with this  the better.  he said the question sounded  very neutral  and  balanced   adding it would enable the argument  to be enjoined fairly and squarely on both sides . green mep caroline lucas welcomed tony blair s  courage in keeping his word  on holding a referendum. but she added:  this treaty is a flawed document that will make the eu less accountable  less sustainable  and less just.   mr blair signed the constitution at a ceremony in rome in november  but had already made it clear the issue would be put to voters in a referendum. that promise came after sustained pressure from opposition parties. jack straw  who argues the constitution reflected a  british vision for europe  and gives  national governments a stronger grip   has said the referendum could be held in spring 2006. but in an interview with the financial times  mr blair refused to be pinned down to that date  saying britain would hold a poll  some time in 2006 but when  i don t know . the paper said the prime minister  claimed ignorance  of when other countries were planning to hold their referendums.\")"
   ]
  },
  {
   "cell_type": "code",
   "execution_count": 85,
   "metadata": {},
   "outputs": [
    {
     "name": "stdout",
     "output_type": "stream",
     "text": [
      "[[1.97865782e-08 1.33058232e-08 9.99923167e-01 2.54328270e-05\n",
      "  5.13669960e-05]]\n",
      "politics\n"
     ]
    }
   ],
   "source": [
    "predict_news(\"eu referendum question unveiled the question to be asked in the referendum on the eu constitution has been unveiled by the government.  it will be:  should the united kingdom approve the treaty establishing a constitution for the european union   the constitution will be incorporated into uk law if there is a yes vote in the referendum  expected in 2006. critics say the constitution is a further step towards a federal europe  but advocates say it ensures effective operation of the enlarged 25-state eu.  if we reject this treaty  britain will be isolated and weak in europe   said foreign secretary jack straw  who along with the rest of the cabinet  will back a  yes  vote.  patriots by definition wanted the uk to be prosperous at home and strong and influential abroad  mr straw said.  our role as a leading member of the eu is a crucial part of securing that.   conservative shadow foreign secretary michael ancram said the referendum question  seems straightforward . but he accused the government of trying to confuse the issue by putting the eu referendum question in the same bill as the ratification of the constitution  when they should be treated as  two separate issues . despite this  underhand trick   the referendum bill stood  no chance of becoming law before the election   he added.  this is tony blair s cheap gesture to the pro-constitution lobby while he runs scared of a debate on europe he knows he cannot win.  neil o brien  director of anti-constitution group vote no  said:  the reality is that the government doesn t want to discuss the eu constitution ahead of the election because they know it is extremely unpopular with voters and with business.   the uk independence party said:  if the government believes that a no vote would mean that we should leave the european union  they should just ask us if we want to leave the eu. then we can be out of it and better off much sooner.   liberal democrat leader charles kennedy  who backs the constitution  said he expected the referendum would come in the first half of next year. he told bbc radio 4 s today programme:  the sooner we get on with this  the better.  he said the question sounded  very neutral  and  balanced   adding it would enable the argument  to be enjoined fairly and squarely on both sides . green mep caroline lucas welcomed tony blair s  courage in keeping his word  on holding a referendum. but she added:  this treaty is a flawed document that will make the eu less accountable  less sustainable  and less just.   mr blair signed the constitution at a ceremony in rome in november  but had already made it clear the issue would be put to voters in a referendum. that promise came after sustained pressure from opposition parties. jack straw  who argues the constitution reflected a  british vision for europe  and gives  national governments a stronger grip   has said the referendum could be held in spring 2006. but in an interview with the financial times  mr blair refused to be pinned down to that date  saying britain would hold a poll  some time in 2006 but when  i don t know . the paper said the prime minister  claimed ignorance  of when other countries were planning to hold their referendums.\")"
   ]
  },
  {
   "cell_type": "code",
   "execution_count": 86,
   "metadata": {},
   "outputs": [
    {
     "name": "stdout",
     "output_type": "stream",
     "text": [
      "[[1.97865782e-08 1.33058232e-08 9.99923167e-01 2.54328270e-05\n",
      "  5.13669960e-05]]\n",
      "politics\n"
     ]
    }
   ],
   "source": [
    "predict_news(\"eu referendum question unveiled the question to be asked in the referendum on the eu constitution has been unveiled by the government.  it will be:  should the united kingdom approve the treaty establishing a constitution for the european union   the constitution will be incorporated into uk law if there is a yes vote in the referendum  expected in 2006. critics say the constitution is a further step towards a federal europe  but advocates say it ensures effective operation of the enlarged 25-state eu.  if we reject this treaty  britain will be isolated and weak in europe   said foreign secretary jack straw  who along with the rest of the cabinet  will back a  yes  vote.  patriots by definition wanted the uk to be prosperous at home and strong and influential abroad  mr straw said.  our role as a leading member of the eu is a crucial part of securing that.   conservative shadow foreign secretary michael ancram said the referendum question  seems straightforward . but he accused the government of trying to confuse the issue by putting the eu referendum question in the same bill as the ratification of the constitution  when they should be treated as  two separate issues . despite this  underhand trick   the referendum bill stood  no chance of becoming law before the election   he added.  this is tony blair s cheap gesture to the pro-constitution lobby while he runs scared of a debate on europe he knows he cannot win.  neil o brien  director of anti-constitution group vote no  said:  the reality is that the government doesn t want to discuss the eu constitution ahead of the election because they know it is extremely unpopular with voters and with business.   the uk independence party said:  if the government believes that a no vote would mean that we should leave the european union  they should just ask us if we want to leave the eu. then we can be out of it and better off much sooner.   liberal democrat leader charles kennedy  who backs the constitution  said he expected the referendum would come in the first half of next year. he told bbc radio 4 s today programme:  the sooner we get on with this  the better.  he said the question sounded  very neutral  and  balanced   adding it would enable the argument  to be enjoined fairly and squarely on both sides . green mep caroline lucas welcomed tony blair s  courage in keeping his word  on holding a referendum. but she added:  this treaty is a flawed document that will make the eu less accountable  less sustainable  and less just.   mr blair signed the constitution at a ceremony in rome in november  but had already made it clear the issue would be put to voters in a referendum. that promise came after sustained pressure from opposition parties. jack straw  who argues the constitution reflected a  british vision for europe  and gives  national governments a stronger grip   has said the referendum could be held in spring 2006. but in an interview with the financial times  mr blair refused to be pinned down to that date  saying britain would hold a poll  some time in 2006 but when  i don t know . the paper said the prime minister  claimed ignorance  of when other countries were planning to hold their referendums.\")"
   ]
  },
  {
   "cell_type": "code",
   "execution_count": 87,
   "metadata": {},
   "outputs": [
    {
     "name": "stdout",
     "output_type": "stream",
     "text": [
      "[[9.98681543e-01 2.95200951e-04 1.32252008e-04 3.00752578e-04\n",
      "  5.90251817e-04]]\n",
      "business\n"
     ]
    }
   ],
   "source": [
    "predict_news(\"french consumer spending rising french consumers increased their spending by 1.5% in january  a figure which bodes well for the country s economic growth  figures revealed.  the national statistic institute (insee) added that consumer spending in january rose 3.8% on a year-on-year basis. rising sales of household equipment were behind the increase. the insee also said that french consumer prices fell 0.6% in january  but were up 1.6% on an annual basis.  despite the general increase in spending in january  french households bought fewer cars in january. according to the insee  car sales fell 2.8% in january  following a fall of 0.6% in december. but on a year-on-year basis  the sector still saw a sales increase of 6.5%. consumer spending fuelled france s economic growth in the last quarter of 2004 and analysts expect that it will continue to support the economy.  it s a growth that will remain fragile and vulnerable to risks like a strong rise in long-term interest rates  tension in the oil price   emmanuel ferry  from exane bnp paribas told reuters news agency.  meanwhile in italy  consumer confidence rose to its highest level since october 2004. economic research group isae has said that italian consumer confidence rose to 104.4 from 103.3  despite a slight deterioration in short-term sentiment.\")"
   ]
  },
  {
   "cell_type": "code",
   "execution_count": 88,
   "metadata": {},
   "outputs": [
    {
     "name": "stdout",
     "output_type": "stream",
     "text": [
      "[[2.52406835e-08 2.29352439e-08 2.54781470e-08 9.42934770e-09\n",
      "  9.99999917e-01]]\n",
      "tech\n"
     ]
    }
   ],
   "source": [
    "predict_news(\"search sites get closer to users search sites want to get to know you better.  not content with providing access to the millions of websites  many now offer ways that do a better job of remembering  cataloguing and managing all the information you come across. some of the latest to update their search systems are ask jeeves and blinkx  which have both released a series of utilities that try to help people get more from the web.  the future is all about developing your own personal web   said tony macklin  spokesman for ask jeeves.  mr macklin said that too often when people use a search engine it was like the first time they ever used it  because there was no memory of what they had searched for before.  each time you go back in you have to start all over again   he said. the series of updates to its service  collected under the my ask jeeves banner  would help people remember where they had been before.  ask jeeves has added the ability to  save  websites of interest so the next time a users visits the site they can search through the sites they have previously found. sites saved in this way can be arranged in folders and have notes attached to them to explain why they were saved. mr macklin said many people wanted to save sites they had seen but did not want to add them to their bookmarks or favourites not least because such lists cannot be easily searched. on average  said mr macklin  users conduct between five and 10 searches per day and the tools in my ask jeeves should stop them having to do searches twice and get to what they want much more easily. under my ask jeeves users can search the web or through the results they have already noted as interesting.  it s about finding again what you found before   he said. the my ask jeeves service lets people store up to a 1000 web links or 5000 if they sign up to the free service. by way of comparison google s desktop search tool catalogues search histories informally and lets people look through the sites they have visited.  at the same time  search start-up blinkx has released a second version of its eponymous software. blinkx is desktop search software that watches what someone is working on  be it a document or e-mail  and suggests websites  video clips  blogs or documents on a pc that are relevant to it.  since blinkx launched it has faced increased competition from firms such as google  copernic  enfish  x1 and apple all of whom now have programs that let people search their pc as well as the web.  the competition has validated the problem we tackle   said suranga chandratillake  co-founder of blinkx. in the latest release of blinkx  the company has added what it calls smart folders. once created the folders act as persistent queries that automatically sweep the web for pages related to their subject and catalogues relevant information  documents or incoming e-mails  on hard drives too. what users do with blinkx and other desktop search engines shows that people tend to be very promiscuous in their use of search engines.  blinkx users do not stop using other web search systems   he said.  they might use google to look up a company  or yahoo for travel because they know they are good at that   he said.  the classic thing we have seen recently  is people using blinkx to look at the things they have searched on   he said. the variety of ways to search data was only helping users  said mr chandratillake and that it was likely that in the future people would use different ones for different tasks.\")"
   ]
  },
  {
   "cell_type": "markdown",
   "metadata": {},
   "source": [
    "<h3>IDF Calculation</h3>"
   ]
  },
  {
   "cell_type": "code",
   "execution_count": 89,
   "metadata": {},
   "outputs": [],
   "source": [
    "\n",
    "def calc_idf(text_column):\n",
    "    col=tfidf.get_feature_names_out()\n",
    "    doc_count=len(text_column)\n",
    "    df={}\n",
    "    idf={}\n",
    "    for char in col:\n",
    "        df[char]=0\n",
    "        idf[char]=0\n",
    "    #Calculating df\n",
    "    for i in range(0,len(col)):\n",
    "        for j in range(0,len(text_column)):\n",
    "            if col[i] in text_column[j]:\n",
    "                df[col[i]]+=1\n",
    "    #Calculating idf\n",
    "    for char in col:\n",
    "        idf[char]=math.log((doc_count+1)/(1+df[char]))+1\n",
    "    return(idf)\n",
    "\n",
    "idf=calc_idf(df_train['Text'])\n"
   ]
  },
  {
   "cell_type": "markdown",
   "metadata": {},
   "source": [
    "<h3>Above cell takes time to run so saving idf values as text For using Flask Operation</h3>"
   ]
  },
  {
   "cell_type": "code",
   "execution_count": 90,
   "metadata": {},
   "outputs": [],
   "source": [
    "import ast\n",
    "with open('tfidf/new_idf.txt', 'w') as f:\n",
    "    print(idf, file=f)\n",
    "    "
   ]
  },
  {
   "cell_type": "code",
   "execution_count": 91,
   "metadata": {},
   "outputs": [],
   "source": [
    "with open('tfidf/new_idf.txt') as f:\n",
    "     idf_load=f.read()\n",
    "idf_load=ast.literal_eval(idf_load)"
   ]
  },
  {
   "cell_type": "markdown",
   "metadata": {},
   "source": [
    "<h3>TF-IDF Calculation</h3>"
   ]
  },
  {
   "cell_type": "code",
   "execution_count": 92,
   "metadata": {},
   "outputs": [],
   "source": [
    "def calc_tf_idf(txt,idf):\n",
    "    idf=idf\n",
    "    \n",
    "    tf_idf={}\n",
    "    word_count={}\n",
    "    col=tfidf.get_feature_names_out()\n",
    "\n",
    "    for ch in col:\n",
    "        tf_idf[ch]=0\n",
    "        word_count[ch]=0\n",
    "\n",
    "    #Calculating tf\n",
    "    words = txt.split()\n",
    "    for ch in words:\n",
    "        if ch in col:\n",
    "            if ch in word_count:\n",
    "                word_count[ch] += 1\n",
    "            else:\n",
    "                word_count[ch] = 1\n",
    "   \n",
    "    rough_tfidf=list(col)\n",
    "    for keys in word_count.keys():\n",
    "        tf_idf[keys]=idf[keys]*word_count[keys]\n",
    "        if keys in rough_tfidf:\n",
    "            index=rough_tfidf.index(keys)\n",
    "            rough_tfidf[index]=tf_idf[keys]\n",
    "    norm=0\n",
    "    for i in range(0,len(rough_tfidf)):\n",
    "        norm+=rough_tfidf[i]**2\n",
    "    if norm==0:\n",
    "        norm=1\n",
    "    for i in range(0,len(rough_tfidf)):\n",
    "        rough_tfidf[i]=round(rough_tfidf[i]/math.sqrt(norm),8)\n",
    "    return rough_tfidf\n"
   ]
  },
  {
   "cell_type": "code",
   "execution_count": 97,
   "metadata": {},
   "outputs": [],
   "source": [
    "def predict_news_pickle(txt):\n",
    "    #process text\n",
    "    text=preprocess_text(txt)\n",
    "    #calculate tfidf\n",
    "    tf_idf=calc_tf_idf(text,idf)\n",
    "    #Validate if it is actually news\n",
    "    if all(i <.05 for i in tf_idf) or count_word(txt)<0:\n",
    "        print(\"Cannot classify\")\n",
    "    else:\n",
    "        index=model.predict([tf_idf])\n",
    "        print(model.predict_proba([tf_idf]))\n",
    "        print(Category_class[int(index)])"
   ]
  },
  {
   "cell_type": "code",
   "execution_count": 98,
   "metadata": {},
   "outputs": [
    {
     "name": "stdout",
     "output_type": "stream",
     "text": [
      "[[0.01499852 0.90708895 0.03002565 0.00528204 0.04260484]]\n",
      "entertainment\n",
      "Cannot classify\n"
     ]
    }
   ],
   "source": [
    "predict_news_pickle(\"The nepali film industry will need some lifting.\")\n",
    "predict_news_pickle(\" \")"
   ]
  },
  {
   "cell_type": "code",
   "execution_count": 99,
   "metadata": {},
   "outputs": [
    {
     "name": "stdout",
     "output_type": "stream",
     "text": [
      "[[4.00871643e-07 3.09652232e-07 3.83516783e-07 1.52475288e-07\n",
      "  9.99998753e-01]]\n",
      "tech\n"
     ]
    }
   ],
   "source": [
    "predict_news_pickle(\"search sites get closer to users search sites want to get to know you better.  not content with providing access to the millions of websites  many now offer ways that do a better job of remembering  cataloguing and managing all the information you come across. some of the latest to update their search systems are ask jeeves and blinkx  which have both released a series of utilities that try to help people get more from the web.  the future is all about developing your own personal web   said tony macklin  spokesman for ask jeeves.  mr macklin said that too often when people use a search engine it was like the first time they ever used it  because there was no memory of what they had searched for before.  each time you go back in you have to start all over again   he said. the series of updates to its service  collected under the my ask jeeves banner  would help people remember where they had been before.  ask jeeves has added the ability to  save  websites of interest so the next time a users visits the site they can search through the sites they have previously found. sites saved in this way can be arranged in folders and have notes attached to them to explain why they were saved. mr macklin said many people wanted to save sites they had seen but did not want to add them to their bookmarks or favourites not least because such lists cannot be easily searched. on average  said mr macklin  users conduct between five and 10 searches per day and the tools in my ask jeeves should stop them having to do searches twice and get to what they want much more easily. under my ask jeeves users can search the web or through the results they have already noted as interesting.  it s about finding again what you found before   he said. the my ask jeeves service lets people store up to a 1000 web links or 5000 if they sign up to the free service. by way of comparison google s desktop search tool catalogues search histories informally and lets people look through the sites they have visited.  at the same time  search start-up blinkx has released a second version of its eponymous software. blinkx is desktop search software that watches what someone is working on  be it a document or e-mail  and suggests websites  video clips  blogs or documents on a pc that are relevant to it.  since blinkx launched it has faced increased competition from firms such as google  copernic  enfish  x1 and apple all of whom now have programs that let people search their pc as well as the web.  the competition has validated the problem we tackle   said suranga chandratillake  co-founder of blinkx. in the latest release of blinkx  the company has added what it calls smart folders. once created the folders act as persistent queries that automatically sweep the web for pages related to their subject and catalogues relevant information  documents or incoming e-mails  on hard drives too. what users do with blinkx and other desktop search engines shows that people tend to be very promiscuous in their use of search engines.  blinkx users do not stop using other web search systems   he said.  they might use google to look up a company  or yahoo for travel because they know they are good at that   he said.  the classic thing we have seen recently  is people using blinkx to look at the things they have searched on   he said. the variety of ways to search data was only helping users  said mr chandratillake and that it was likely that in the future people would use different ones for different tasks.\")"
   ]
  },
  {
   "cell_type": "code",
   "execution_count": 100,
   "metadata": {},
   "outputs": [
    {
     "name": "stdout",
     "output_type": "stream",
     "text": [
      "[[0.04890497 0.03541745 0.01068791 0.89770527 0.00728439]]\n",
      "sport\n"
     ]
    }
   ],
   "source": [
    "predict_news_pickle(\"qpr keeper day heads for preston queens park rangers keeper chris day is set to join preston on a month s loan.  day has been displaced by the arrival of simon royce  who is in his second month on loan from charlton. qpr have also signed italian generoso rossi. r s manager ian holloway said:  some might say it s a risk as he can t be recalled during that month and simon royce can now be recalled by charlton.  but i have other irons in the fire. i have had a  yes  from a couple of others should i need them.   day s rangers contract expires in the summer. meanwhile  holloway is hoping to complete the signing of middlesbrough defender andy davies - either permanently or again on loan - before saturday s match at ipswich. davies impressed during a recent loan spell at loftus road. holloway is also chasing bristol city midfielder tom doherty.\")"
   ]
  },
  {
   "cell_type": "code",
   "execution_count": null,
   "metadata": {},
   "outputs": [],
   "source": []
  }
 ],
 "metadata": {
  "kernelspec": {
   "display_name": "news",
   "language": "python",
   "name": "python3"
  },
  "language_info": {
   "codemirror_mode": {
    "name": "ipython",
    "version": 3
   },
   "file_extension": ".py",
   "mimetype": "text/x-python",
   "name": "python",
   "nbconvert_exporter": "python",
   "pygments_lexer": "ipython3",
   "version": "3.11.9"
  },
  "orig_nbformat": 4,
  "vscode": {
   "interpreter": {
    "hash": "54d7853ee6fa0f00287d6366039c823ef0d7deed99bd833d3ec41cd5f7adce9b"
   }
  }
 },
 "nbformat": 4,
 "nbformat_minor": 2
}
