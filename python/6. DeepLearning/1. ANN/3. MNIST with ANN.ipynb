{
 "cells": [
  {
   "cell_type": "markdown",
   "metadata": {},
   "source": [
    "<h1>MNIST DATASET</h1>"
   ]
  },
  {
   "cell_type": "code",
   "execution_count": 1,
   "metadata": {},
   "outputs": [],
   "source": [
    "import matplotlib.pyplot as plt\n",
    "import seaborn as sns\n",
    "import pandas as pd\n",
    "\n",
    "import os\n",
    "import cv2\n",
    "import numpy as np\n",
    "import tensorflow as tf\n",
    "\n",
    "from sklearn.model_selection import train_test_split\n",
    "\n",
    "from tensorflow.keras.utils import to_categorical\n",
    "\n",
    "from tensorflow.keras.models import Sequential\n",
    "from tensorflow.keras.layers import Dense,Dropout\n",
    "from keras.optimizers import SGD\n",
    "\n",
    "import warnings                      \n",
    "warnings.simplefilter(\"ignore\")  # ignores the warning"
   ]
  },
  {
   "cell_type": "markdown",
   "metadata": {},
   "source": [
    "# Load .npy file\n"
   ]
  },
  {
   "cell_type": "code",
   "execution_count": 3,
   "metadata": {},
   "outputs": [],
   "source": [
    "# Load the MNIST data from .npy file\n",
    "data = np.load('data/mnist_data.npy', allow_pickle=True)\n",
    "images = data.item().get('images')\n",
    "labels = data.item().get('labels')"
   ]
  },
  {
   "cell_type": "markdown",
   "metadata": {},
   "source": [
    "# Visualize"
   ]
  },
  {
   "cell_type": "code",
   "execution_count": 4,
   "metadata": {},
   "outputs": [],
   "source": [
    "import random"
   ]
  },
  {
   "cell_type": "code",
   "execution_count": 7,
   "metadata": {},
   "outputs": [
    {
     "data": {
      "image/png": "[encoded data removed]",
      "text/plain": [
       "<Figure size 1600x1600 with 10 Axes>"
      ]
     },
     "metadata": {},
     "output_type": "display_data"
    }
   ],
   "source": [
    "def random_value_for_index(labels, target_value):\n",
    "    indices = [index for index, value in enumerate(labels) if value == target_value]\n",
    "    return random.choice(indices)\n",
    "\n",
    "# Define categories\n",
    "categories = [0, 1, 2, 3, 4, 5, 6, 7, 8, 9]\n",
    "\n",
    "# Create subplots\n",
    "fig, axs = plt.subplots(1, 10, figsize=(16, 16))\n",
    "\n",
    "for index, category in enumerate(categories):\n",
    "    # Select random image index from specific category\n",
    "    random_index = random_value_for_index(labels, category)\n",
    "    # Plot the random image\n",
    "    axs[index].imshow(images[random_index].reshape(28, 28), cmap='gray')\n",
    "    axs[index].axis('off')\n",
    "    axs[index].set_title(category)\n",
    "\n",
    "plt.subplots_adjust(wspace=0.1, hspace=0.1)\n",
    "plt.show()"
   ]
  },
  {
   "cell_type": "markdown",
   "metadata": {},
   "source": [
    "# Train Test Split"
   ]
  },
  {
   "cell_type": "code",
   "execution_count": 8,
   "metadata": {},
   "outputs": [],
   "source": [
    "x_train, x_test, y_train, y_test = train_test_split(images, labels, test_size=0.2, random_state=11)"
   ]
  },
  {
   "cell_type": "code",
   "execution_count": 9,
   "metadata": {},
   "outputs": [
    {
     "name": "stdout",
     "output_type": "stream",
     "text": [
      "X_train shape :  (33600, 784)\n",
      "y_train shape :  (33600,)\n",
      "X_test shape :  (8400, 784)\n",
      "y_test shape :  (8400,)\n"
     ]
    }
   ],
   "source": [
    "print(\"X_train shape : \",x_train.shape)\n",
    "print(\"y_train shape : \",y_train.shape)\n",
    "print(\"X_test shape : \",x_test.shape)\n",
    "print(\"y_test shape : \",y_test.shape)"
   ]
  },
  {
   "cell_type": "markdown",
   "metadata": {},
   "source": [
    "# Normalization"
   ]
  },
  {
   "cell_type": "code",
   "execution_count": 10,
   "metadata": {},
   "outputs": [],
   "source": [
    "x_train = tf.keras.utils.normalize(x_train, axis=1)\n",
    "x_test = tf.keras.utils.normalize(x_test, axis=1)"
   ]
  },
  {
   "cell_type": "markdown",
   "metadata": {},
   "source": [
    "# train ANN Model"
   ]
  },
  {
   "cell_type": "code",
   "execution_count": 12,
   "metadata": {},
   "outputs": [],
   "source": [
    "model = Sequential()\n",
    "model.add(Dense(128, activation='relu', input_shape=(784,)))\n",
    "model.add(Dense(128, activation='relu'))\n",
    "model.add(Dense(10, activation='softmax'))"
   ]
  },
  {
   "cell_type": "code",
   "execution_count": 14,
   "metadata": {},
   "outputs": [
    {
     "data": {
      "text/html": [
       "<pre style=\"white-space:pre;overflow-x:auto;line-height:normal;font-family:Menlo,'DejaVu Sans Mono',consolas,'Courier New',monospace\"><span style=\"font-weight: bold\">Model: \"sequential\"</span>\n",
       "</pre>\n"
      ],
      "text/plain": [
       "\u001b[1mModel: \"sequential\"\u001b[0m\n"
      ]
     },
     "metadata": {},
     "output_type": "display_data"
    },
    {
     "data": {
      "text/html": [
       "<pre style=\"white-space:pre;overflow-x:auto;line-height:normal;font-family:Menlo,'DejaVu Sans Mono',consolas,'Courier New',monospace\">┏━━━━━━━━━━━━━━━━━━━━━━━━━━━━━━━━━┳━━━━━━━━━━━━━━━━━━━━━━━━┳━━━━━━━━━━━━━━━┓\n",
       "┃<span style=\"font-weight: bold\"> Layer (type)                    </span>┃<span style=\"font-weight: bold\"> Output Shape           </span>┃<span style=\"font-weight: bold\">       Param # </span>┃\n",
       "┡━━━━━━━━━━━━━━━━━━━━━━━━━━━━━━━━━╇━━━━━━━━━━━━━━━━━━━━━━━━╇━━━━━━━━━━━━━━━┩\n",
       "│ dense (<span style=\"color: #0087ff; text-decoration-color: #0087ff\">Dense</span>)                   │ (<span style=\"color: #00d7ff; text-decoration-color: #00d7ff\">None</span>, <span style=\"color: #00af00; text-decoration-color: #00af00\">128</span>)            │       <span style=\"color: #00af00; text-decoration-color: #00af00\">100,480</span> │\n",
       "├─────────────────────────────────┼────────────────────────┼───────────────┤\n",
       "│ dense_1 (<span style=\"color: #0087ff; text-decoration-color: #0087ff\">Dense</span>)                 │ (<span style=\"color: #00d7ff; text-decoration-color: #00d7ff\">None</span>, <span style=\"color: #00af00; text-decoration-color: #00af00\">128</span>)            │        <span style=\"color: #00af00; text-decoration-color: #00af00\">16,512</span> │\n",
       "├─────────────────────────────────┼────────────────────────┼───────────────┤\n",
       "│ dense_2 (<span style=\"color: #0087ff; text-decoration-color: #0087ff\">Dense</span>)                 │ (<span style=\"color: #00d7ff; text-decoration-color: #00d7ff\">None</span>, <span style=\"color: #00af00; text-decoration-color: #00af00\">10</span>)             │         <span style=\"color: #00af00; text-decoration-color: #00af00\">1,290</span> │\n",
       "└─────────────────────────────────┴────────────────────────┴───────────────┘\n",
       "</pre>\n"
      ],
      "text/plain": [
       "┏━━━━━━━━━━━━━━━━━━━━━━━━━━━━━━━━━┳━━━━━━━━━━━━━━━━━━━━━━━━┳━━━━━━━━━━━━━━━┓\n",
       "┃\u001b[1m \u001b[0m\u001b[1mLayer (type)                   \u001b[0m\u001b[1m \u001b[0m┃\u001b[1m \u001b[0m\u001b[1mOutput Shape          \u001b[0m\u001b[1m \u001b[0m┃\u001b[1m \u001b[0m\u001b[1m      Param #\u001b[0m\u001b[1m \u001b[0m┃\n",
       "┡━━━━━━━━━━━━━━━━━━━━━━━━━━━━━━━━━╇━━━━━━━━━━━━━━━━━━━━━━━━╇━━━━━━━━━━━━━━━┩\n",
       "│ dense (\u001b[38;5;33mDense\u001b[0m)                   │ (\u001b[38;5;45mNone\u001b[0m, \u001b[38;5;34m128\u001b[0m)            │       \u001b[38;5;34m100,480\u001b[0m │\n",
       "├─────────────────────────────────┼────────────────────────┼───────────────┤\n",
       "│ dense_1 (\u001b[38;5;33mDense\u001b[0m)                 │ (\u001b[38;5;45mNone\u001b[0m, \u001b[38;5;34m128\u001b[0m)            │        \u001b[38;5;34m16,512\u001b[0m │\n",
       "├─────────────────────────────────┼────────────────────────┼───────────────┤\n",
       "│ dense_2 (\u001b[38;5;33mDense\u001b[0m)                 │ (\u001b[38;5;45mNone\u001b[0m, \u001b[38;5;34m10\u001b[0m)             │         \u001b[38;5;34m1,290\u001b[0m │\n",
       "└─────────────────────────────────┴────────────────────────┴───────────────┘\n"
      ]
     },
     "metadata": {},
     "output_type": "display_data"
    },
    {
     "data": {
      "text/html": [
       "<pre style=\"white-space:pre;overflow-x:auto;line-height:normal;font-family:Menlo,'DejaVu Sans Mono',consolas,'Courier New',monospace\"><span style=\"font-weight: bold\"> Total params: </span><span style=\"color: #00af00; text-decoration-color: #00af00\">118,282</span> (462.04 KB)\n",
       "</pre>\n"
      ],
      "text/plain": [
       "\u001b[1m Total params: \u001b[0m\u001b[38;5;34m118,282\u001b[0m (462.04 KB)\n"
      ]
     },
     "metadata": {},
     "output_type": "display_data"
    },
    {
     "data": {
      "text/html": [
       "<pre style=\"white-space:pre;overflow-x:auto;line-height:normal;font-family:Menlo,'DejaVu Sans Mono',consolas,'Courier New',monospace\"><span style=\"font-weight: bold\"> Trainable params: </span><span style=\"color: #00af00; text-decoration-color: #00af00\">118,282</span> (462.04 KB)\n",
       "</pre>\n"
      ],
      "text/plain": [
       "\u001b[1m Trainable params: \u001b[0m\u001b[38;5;34m118,282\u001b[0m (462.04 KB)\n"
      ]
     },
     "metadata": {},
     "output_type": "display_data"
    },
    {
     "data": {
      "text/html": [
       "<pre style=\"white-space:pre;overflow-x:auto;line-height:normal;font-family:Menlo,'DejaVu Sans Mono',consolas,'Courier New',monospace\"><span style=\"font-weight: bold\"> Non-trainable params: </span><span style=\"color: #00af00; text-decoration-color: #00af00\">0</span> (0.00 B)\n",
       "</pre>\n"
      ],
      "text/plain": [
       "\u001b[1m Non-trainable params: \u001b[0m\u001b[38;5;34m0\u001b[0m (0.00 B)\n"
      ]
     },
     "metadata": {},
     "output_type": "display_data"
    }
   ],
   "source": [
    "model.summary()"
   ]
  },
  {
   "cell_type": "markdown",
   "metadata": {},
   "source": [
    "# Early Stoping"
   ]
  },
  {
   "cell_type": "code",
   "execution_count": 16,
   "metadata": {},
   "outputs": [],
   "source": [
    "from tensorflow.keras.callbacks import EarlyStopping\n",
    "early_stop=EarlyStopping(monitor='val_loss',patience=5)"
   ]
  },
  {
   "cell_type": "markdown",
   "metadata": {},
   "source": [
    "# Compile"
   ]
  },
  {
   "cell_type": "code",
   "execution_count": 17,
   "metadata": {},
   "outputs": [],
   "source": [
    "optimizer = tf.keras.optimizers.SGD(learning_rate=0.001)\n",
    "model.compile(optimizer=optimizer, loss='sparse_categorical_crossentropy', metrics=['accuracy'])"
   ]
  },
  {
   "cell_type": "markdown",
   "metadata": {},
   "source": [
    "# Train"
   ]
  },
  {
   "cell_type": "code",
   "execution_count": 18,
   "metadata": {},
   "outputs": [
    {
     "name": "stdout",
     "output_type": "stream",
     "text": [
      "Epoch 1/100\n",
      "\u001b[1m945/945\u001b[0m \u001b[32m━━━━━━━━━━━━━━━━━━━━\u001b[0m\u001b[37m\u001b[0m \u001b[1m2s\u001b[0m 2ms/step - accuracy: 0.1035 - loss: 2.3015 - val_accuracy: 0.2060 - val_loss: 2.2933\n",
      "Epoch 2/100\n",
      "\u001b[1m945/945\u001b[0m \u001b[32m━━━━━━━━━━━━━━━━━━━━\u001b[0m\u001b[37m\u001b[0m \u001b[1m2s\u001b[0m 2ms/step - accuracy: 0.2199 - loss: 2.2916 - val_accuracy: 0.2664 - val_loss: 2.2838\n",
      "Epoch 3/100\n",
      "\u001b[1m945/945\u001b[0m \u001b[32m━━━━━━━━━━━━━━━━━━━━\u001b[0m\u001b[37m\u001b[0m \u001b[1m2s\u001b[0m 2ms/step - accuracy: 0.2656 - loss: 2.2822 - val_accuracy: 0.3057 - val_loss: 2.2743\n",
      "Epoch 4/100\n",
      "\u001b[1m945/945\u001b[0m \u001b[32m━━━━━━━━━━━━━━━━━━━━\u001b[0m\u001b[37m\u001b[0m \u001b[1m2s\u001b[0m 2ms/step - accuracy: 0.3074 - loss: 2.2726 - val_accuracy: 0.3551 - val_loss: 2.2643\n",
      "Epoch 5/100\n",
      "\u001b[1m945/945\u001b[0m \u001b[32m━━━━━━━━━━━━━━━━━━━━\u001b[0m\u001b[37m\u001b[0m \u001b[1m2s\u001b[0m 2ms/step - accuracy: 0.3527 - loss: 2.2621 - val_accuracy: 0.3988 - val_loss: 2.2533\n",
      "Epoch 6/100\n",
      "\u001b[1m945/945\u001b[0m \u001b[32m━━━━━━━━━━━━━━━━━━━━\u001b[0m\u001b[37m\u001b[0m \u001b[1m2s\u001b[0m 2ms/step - accuracy: 0.4039 - loss: 2.2512 - val_accuracy: 0.4426 - val_loss: 2.2411\n",
      "Epoch 7/100\n",
      "\u001b[1m945/945\u001b[0m \u001b[32m━━━━━━━━━━━━━━━━━━━━\u001b[0m\u001b[37m\u001b[0m \u001b[1m2s\u001b[0m 2ms/step - accuracy: 0.4481 - loss: 2.2391 - val_accuracy: 0.4759 - val_loss: 2.2276\n",
      "Epoch 8/100\n",
      "\u001b[1m945/945\u001b[0m \u001b[32m━━━━━━━━━━━━━━━━━━━━\u001b[0m\u001b[37m\u001b[0m \u001b[1m2s\u001b[0m 2ms/step - accuracy: 0.4736 - loss: 2.2254 - val_accuracy: 0.5012 - val_loss: 2.2126\n",
      "Epoch 9/100\n",
      "\u001b[1m945/945\u001b[0m \u001b[32m━━━━━━━━━━━━━━━━━━━━\u001b[0m\u001b[37m\u001b[0m \u001b[1m2s\u001b[0m 2ms/step - accuracy: 0.5006 - loss: 2.2094 - val_accuracy: 0.5185 - val_loss: 2.1958\n",
      "Epoch 10/100\n",
      "\u001b[1m945/945\u001b[0m \u001b[32m━━━━━━━━━━━━━━━━━━━━\u001b[0m\u001b[37m\u001b[0m \u001b[1m2s\u001b[0m 2ms/step - accuracy: 0.5189 - loss: 2.1925 - val_accuracy: 0.5414 - val_loss: 2.1765\n",
      "Epoch 11/100\n",
      "\u001b[1m945/945\u001b[0m \u001b[32m━━━━━━━━━━━━━━━━━━━━\u001b[0m\u001b[37m\u001b[0m \u001b[1m2s\u001b[0m 2ms/step - accuracy: 0.5361 - loss: 2.1737 - val_accuracy: 0.5562 - val_loss: 2.1544\n",
      "Epoch 12/100\n",
      "\u001b[1m945/945\u001b[0m \u001b[32m━━━━━━━━━━━━━━━━━━━━\u001b[0m\u001b[37m\u001b[0m \u001b[1m2s\u001b[0m 2ms/step - accuracy: 0.5528 - loss: 2.1505 - val_accuracy: 0.5679 - val_loss: 2.1288\n",
      "Epoch 13/100\n",
      "\u001b[1m945/945\u001b[0m \u001b[32m━━━━━━━━━━━━━━━━━━━━\u001b[0m\u001b[37m\u001b[0m \u001b[1m2s\u001b[0m 2ms/step - accuracy: 0.5662 - loss: 2.1251 - val_accuracy: 0.5836 - val_loss: 2.0993\n",
      "Epoch 14/100\n",
      "\u001b[1m945/945\u001b[0m \u001b[32m━━━━━━━━━━━━━━━━━━━━\u001b[0m\u001b[37m\u001b[0m \u001b[1m2s\u001b[0m 2ms/step - accuracy: 0.5752 - loss: 2.0938 - val_accuracy: 0.5973 - val_loss: 2.0656\n",
      "Epoch 15/100\n",
      "\u001b[1m945/945\u001b[0m \u001b[32m━━━━━━━━━━━━━━━━━━━━\u001b[0m\u001b[37m\u001b[0m \u001b[1m2s\u001b[0m 2ms/step - accuracy: 0.5924 - loss: 2.0592 - val_accuracy: 0.6018 - val_loss: 2.0271\n",
      "Epoch 16/100\n",
      "\u001b[1m945/945\u001b[0m \u001b[32m━━━━━━━━━━━━━━━━━━━━\u001b[0m\u001b[37m\u001b[0m \u001b[1m2s\u001b[0m 2ms/step - accuracy: 0.6006 - loss: 2.0211 - val_accuracy: 0.6062 - val_loss: 1.9836\n",
      "Epoch 17/100\n",
      "\u001b[1m945/945\u001b[0m \u001b[32m━━━━━━━━━━━━━━━━━━━━\u001b[0m\u001b[37m\u001b[0m \u001b[1m2s\u001b[0m 2ms/step - accuracy: 0.5998 - loss: 1.9744 - val_accuracy: 0.6116 - val_loss: 1.9351\n",
      "Epoch 18/100\n",
      "\u001b[1m945/945\u001b[0m \u001b[32m━━━━━━━━━━━━━━━━━━━━\u001b[0m\u001b[37m\u001b[0m \u001b[1m2s\u001b[0m 2ms/step - accuracy: 0.6060 - loss: 1.9285 - val_accuracy: 0.6149 - val_loss: 1.8818\n",
      "Epoch 19/100\n",
      "\u001b[1m945/945\u001b[0m \u001b[32m━━━━━━━━━━━━━━━━━━━━\u001b[0m\u001b[37m\u001b[0m \u001b[1m2s\u001b[0m 2ms/step - accuracy: 0.6119 - loss: 1.8706 - val_accuracy: 0.6173 - val_loss: 1.8239\n",
      "Epoch 20/100\n",
      "\u001b[1m945/945\u001b[0m \u001b[32m━━━━━━━━━━━━━━━━━━━━\u001b[0m\u001b[37m\u001b[0m \u001b[1m2s\u001b[0m 2ms/step - accuracy: 0.6188 - loss: 1.8106 - val_accuracy: 0.6253 - val_loss: 1.7625\n",
      "Epoch 21/100\n",
      "\u001b[1m945/945\u001b[0m \u001b[32m━━━━━━━━━━━━━━━━━━━━\u001b[0m\u001b[37m\u001b[0m \u001b[1m2s\u001b[0m 2ms/step - accuracy: 0.6258 - loss: 1.7559 - val_accuracy: 0.6363 - val_loss: 1.6986\n",
      "Epoch 22/100\n",
      "\u001b[1m945/945\u001b[0m \u001b[32m━━━━━━━━━━━━━━━━━━━━\u001b[0m\u001b[37m\u001b[0m \u001b[1m2s\u001b[0m 2ms/step - accuracy: 0.6393 - loss: 1.6852 - val_accuracy: 0.6485 - val_loss: 1.6333\n",
      "Epoch 23/100\n",
      "\u001b[1m945/945\u001b[0m \u001b[32m━━━━━━━━━━━━━━━━━━━━\u001b[0m\u001b[37m\u001b[0m \u001b[1m2s\u001b[0m 2ms/step - accuracy: 0.6507 - loss: 1.6253 - val_accuracy: 0.6592 - val_loss: 1.5676\n",
      "Epoch 24/100\n",
      "\u001b[1m945/945\u001b[0m \u001b[32m━━━━━━━━━━━━━━━━━━━━\u001b[0m\u001b[37m\u001b[0m \u001b[1m2s\u001b[0m 2ms/step - accuracy: 0.6641 - loss: 1.5512 - val_accuracy: 0.6744 - val_loss: 1.5024\n",
      "Epoch 25/100\n",
      "\u001b[1m945/945\u001b[0m \u001b[32m━━━━━━━━━━━━━━━━━━━━\u001b[0m\u001b[37m\u001b[0m \u001b[1m2s\u001b[0m 2ms/step - accuracy: 0.6716 - loss: 1.4932 - val_accuracy: 0.6881 - val_loss: 1.4383\n",
      "Epoch 26/100\n",
      "\u001b[1m945/945\u001b[0m \u001b[32m━━━━━━━━━━━━━━━━━━━━\u001b[0m\u001b[37m\u001b[0m \u001b[1m2s\u001b[0m 2ms/step - accuracy: 0.6943 - loss: 1.4227 - val_accuracy: 0.7063 - val_loss: 1.3765\n",
      "Epoch 27/100\n",
      "\u001b[1m945/945\u001b[0m \u001b[32m━━━━━━━━━━━━━━━━━━━━\u001b[0m\u001b[37m\u001b[0m \u001b[1m2s\u001b[0m 2ms/step - accuracy: 0.7059 - loss: 1.3668 - val_accuracy: 0.7196 - val_loss: 1.3166\n",
      "Epoch 28/100\n",
      "\u001b[1m945/945\u001b[0m \u001b[32m━━━━━━━━━━━━━━━━━━━━\u001b[0m\u001b[37m\u001b[0m \u001b[1m2s\u001b[0m 2ms/step - accuracy: 0.7205 - loss: 1.3089 - val_accuracy: 0.7321 - val_loss: 1.2592\n",
      "Epoch 29/100\n",
      "\u001b[1m945/945\u001b[0m \u001b[32m━━━━━━━━━━━━━━━━━━━━\u001b[0m\u001b[37m\u001b[0m \u001b[1m2s\u001b[0m 2ms/step - accuracy: 0.7254 - loss: 1.2470 - val_accuracy: 0.7482 - val_loss: 1.2052\n",
      "Epoch 30/100\n",
      "\u001b[1m945/945\u001b[0m \u001b[32m━━━━━━━━━━━━━━━━━━━━\u001b[0m\u001b[37m\u001b[0m \u001b[1m2s\u001b[0m 2ms/step - accuracy: 0.7454 - loss: 1.1928 - val_accuracy: 0.7527 - val_loss: 1.1539\n",
      "Epoch 31/100\n",
      "\u001b[1m945/945\u001b[0m \u001b[32m━━━━━━━━━━━━━━━━━━━━\u001b[0m\u001b[37m\u001b[0m \u001b[1m2s\u001b[0m 2ms/step - accuracy: 0.7509 - loss: 1.1460 - val_accuracy: 0.7637 - val_loss: 1.1064\n",
      "Epoch 32/100\n",
      "\u001b[1m945/945\u001b[0m \u001b[32m━━━━━━━━━━━━━━━━━━━━\u001b[0m\u001b[37m\u001b[0m \u001b[1m2s\u001b[0m 2ms/step - accuracy: 0.7596 - loss: 1.0960 - val_accuracy: 0.7696 - val_loss: 1.0616\n",
      "Epoch 33/100\n",
      "\u001b[1m945/945\u001b[0m \u001b[32m━━━━━━━━━━━━━━━━━━━━\u001b[0m\u001b[37m\u001b[0m \u001b[1m2s\u001b[0m 2ms/step - accuracy: 0.7684 - loss: 1.0507 - val_accuracy: 0.7741 - val_loss: 1.0200\n",
      "Epoch 34/100\n",
      "\u001b[1m945/945\u001b[0m \u001b[32m━━━━━━━━━━━━━━━━━━━━\u001b[0m\u001b[37m\u001b[0m \u001b[1m2s\u001b[0m 2ms/step - accuracy: 0.7782 - loss: 1.0085 - val_accuracy: 0.7812 - val_loss: 0.9818\n",
      "Epoch 35/100\n",
      "\u001b[1m945/945\u001b[0m \u001b[32m━━━━━━━━━━━━━━━━━━━━\u001b[0m\u001b[37m\u001b[0m \u001b[1m2s\u001b[0m 2ms/step - accuracy: 0.7758 - loss: 0.9794 - val_accuracy: 0.7863 - val_loss: 0.9462\n",
      "Epoch 36/100\n",
      "\u001b[1m945/945\u001b[0m \u001b[32m━━━━━━━━━━━━━━━━━━━━\u001b[0m\u001b[37m\u001b[0m \u001b[1m2s\u001b[0m 2ms/step - accuracy: 0.7861 - loss: 0.9388 - val_accuracy: 0.7914 - val_loss: 0.9133\n",
      "Epoch 37/100\n",
      "\u001b[1m945/945\u001b[0m \u001b[32m━━━━━━━━━━━━━━━━━━━━\u001b[0m\u001b[37m\u001b[0m \u001b[1m2s\u001b[0m 2ms/step - accuracy: 0.7912 - loss: 0.9079 - val_accuracy: 0.7982 - val_loss: 0.8831\n",
      "Epoch 38/100\n",
      "\u001b[1m945/945\u001b[0m \u001b[32m━━━━━━━━━━━━━━━━━━━━\u001b[0m\u001b[37m\u001b[0m \u001b[1m2s\u001b[0m 2ms/step - accuracy: 0.7957 - loss: 0.8797 - val_accuracy: 0.8033 - val_loss: 0.8548\n",
      "Epoch 39/100\n",
      "\u001b[1m945/945\u001b[0m \u001b[32m━━━━━━━━━━━━━━━━━━━━\u001b[0m\u001b[37m\u001b[0m \u001b[1m2s\u001b[0m 2ms/step - accuracy: 0.7996 - loss: 0.8465 - val_accuracy: 0.8062 - val_loss: 0.8284\n",
      "Epoch 40/100\n",
      "\u001b[1m945/945\u001b[0m \u001b[32m━━━━━━━━━━━━━━━━━━━━\u001b[0m\u001b[37m\u001b[0m \u001b[1m2s\u001b[0m 2ms/step - accuracy: 0.8050 - loss: 0.8215 - val_accuracy: 0.8125 - val_loss: 0.8040\n",
      "Epoch 41/100\n",
      "\u001b[1m945/945\u001b[0m \u001b[32m━━━━━━━━━━━━━━━━━━━━\u001b[0m\u001b[37m\u001b[0m \u001b[1m2s\u001b[0m 2ms/step - accuracy: 0.8047 - loss: 0.8093 - val_accuracy: 0.8134 - val_loss: 0.7813\n",
      "Epoch 42/100\n",
      "\u001b[1m945/945\u001b[0m \u001b[32m━━━━━━━━━━━━━━━━━━━━\u001b[0m\u001b[37m\u001b[0m \u001b[1m2s\u001b[0m 2ms/step - accuracy: 0.8175 - loss: 0.7678 - val_accuracy: 0.8161 - val_loss: 0.7600\n",
      "Epoch 43/100\n",
      "\u001b[1m945/945\u001b[0m \u001b[32m━━━━━━━━━━━━━━━━━━━━\u001b[0m\u001b[37m\u001b[0m \u001b[1m2s\u001b[0m 2ms/step - accuracy: 0.8157 - loss: 0.7562 - val_accuracy: 0.8182 - val_loss: 0.7396\n",
      "Epoch 44/100\n",
      "\u001b[1m945/945\u001b[0m \u001b[32m━━━━━━━━━━━━━━━━━━━━\u001b[0m\u001b[37m\u001b[0m \u001b[1m2s\u001b[0m 2ms/step - accuracy: 0.8160 - loss: 0.7370 - val_accuracy: 0.8229 - val_loss: 0.7217\n",
      "Epoch 45/100\n",
      "\u001b[1m945/945\u001b[0m \u001b[32m━━━━━━━━━━━━━━━━━━━━\u001b[0m\u001b[37m\u001b[0m \u001b[1m2s\u001b[0m 2ms/step - accuracy: 0.8228 - loss: 0.7177 - val_accuracy: 0.8277 - val_loss: 0.7041\n",
      "Epoch 46/100\n",
      "\u001b[1m945/945\u001b[0m \u001b[32m━━━━━━━━━━━━━━━━━━━━\u001b[0m\u001b[37m\u001b[0m \u001b[1m2s\u001b[0m 2ms/step - accuracy: 0.8277 - loss: 0.7001 - val_accuracy: 0.8318 - val_loss: 0.6877\n",
      "Epoch 47/100\n",
      "\u001b[1m945/945\u001b[0m \u001b[32m━━━━━━━━━━━━━━━━━━━━\u001b[0m\u001b[37m\u001b[0m \u001b[1m2s\u001b[0m 2ms/step - accuracy: 0.8266 - loss: 0.6777 - val_accuracy: 0.8339 - val_loss: 0.6726\n",
      "Epoch 48/100\n",
      "\u001b[1m945/945\u001b[0m \u001b[32m━━━━━━━━━━━━━━━━━━━━\u001b[0m\u001b[37m\u001b[0m \u001b[1m2s\u001b[0m 2ms/step - accuracy: 0.8328 - loss: 0.6670 - val_accuracy: 0.8378 - val_loss: 0.6583\n",
      "Epoch 49/100\n",
      "\u001b[1m945/945\u001b[0m \u001b[32m━━━━━━━━━━━━━━━━━━━━\u001b[0m\u001b[37m\u001b[0m \u001b[1m2s\u001b[0m 2ms/step - accuracy: 0.8346 - loss: 0.6530 - val_accuracy: 0.8381 - val_loss: 0.6446\n",
      "Epoch 50/100\n",
      "\u001b[1m945/945\u001b[0m \u001b[32m━━━━━━━━━━━━━━━━━━━━\u001b[0m\u001b[37m\u001b[0m \u001b[1m2s\u001b[0m 2ms/step - accuracy: 0.8366 - loss: 0.6381 - val_accuracy: 0.8417 - val_loss: 0.6317\n",
      "Epoch 51/100\n",
      "\u001b[1m945/945\u001b[0m \u001b[32m━━━━━━━━━━━━━━━━━━━━\u001b[0m\u001b[37m\u001b[0m \u001b[1m2s\u001b[0m 2ms/step - accuracy: 0.8367 - loss: 0.6307 - val_accuracy: 0.8446 - val_loss: 0.6196\n",
      "Epoch 52/100\n",
      "\u001b[1m945/945\u001b[0m \u001b[32m━━━━━━━━━━━━━━━━━━━━\u001b[0m\u001b[37m\u001b[0m \u001b[1m2s\u001b[0m 2ms/step - accuracy: 0.8431 - loss: 0.6142 - val_accuracy: 0.8464 - val_loss: 0.6077\n",
      "Epoch 53/100\n",
      "\u001b[1m945/945\u001b[0m \u001b[32m━━━━━━━━━━━━━━━━━━━━\u001b[0m\u001b[37m\u001b[0m \u001b[1m2s\u001b[0m 2ms/step - accuracy: 0.8451 - loss: 0.5992 - val_accuracy: 0.8494 - val_loss: 0.5971\n",
      "Epoch 54/100\n",
      "\u001b[1m945/945\u001b[0m \u001b[32m━━━━━━━━━━━━━━━━━━━━\u001b[0m\u001b[37m\u001b[0m \u001b[1m2s\u001b[0m 2ms/step - accuracy: 0.8428 - loss: 0.5970 - val_accuracy: 0.8509 - val_loss: 0.5875\n",
      "Epoch 55/100\n",
      "\u001b[1m945/945\u001b[0m \u001b[32m━━━━━━━━━━━━━━━━━━━━\u001b[0m\u001b[37m\u001b[0m \u001b[1m2s\u001b[0m 2ms/step - accuracy: 0.8436 - loss: 0.5819 - val_accuracy: 0.8512 - val_loss: 0.5773\n",
      "Epoch 56/100\n",
      "\u001b[1m945/945\u001b[0m \u001b[32m━━━━━━━━━━━━━━━━━━━━\u001b[0m\u001b[37m\u001b[0m \u001b[1m2s\u001b[0m 2ms/step - accuracy: 0.8489 - loss: 0.5721 - val_accuracy: 0.8518 - val_loss: 0.5682\n",
      "Epoch 57/100\n",
      "\u001b[1m945/945\u001b[0m \u001b[32m━━━━━━━━━━━━━━━━━━━━\u001b[0m\u001b[37m\u001b[0m \u001b[1m2s\u001b[0m 2ms/step - accuracy: 0.8501 - loss: 0.5645 - val_accuracy: 0.8539 - val_loss: 0.5593\n",
      "Epoch 58/100\n",
      "\u001b[1m945/945\u001b[0m \u001b[32m━━━━━━━━━━━━━━━━━━━━\u001b[0m\u001b[37m\u001b[0m \u001b[1m2s\u001b[0m 2ms/step - accuracy: 0.8524 - loss: 0.5572 - val_accuracy: 0.8560 - val_loss: 0.5508\n",
      "Epoch 59/100\n",
      "\u001b[1m945/945\u001b[0m \u001b[32m━━━━━━━━━━━━━━━━━━━━\u001b[0m\u001b[37m\u001b[0m \u001b[1m2s\u001b[0m 2ms/step - accuracy: 0.8525 - loss: 0.5487 - val_accuracy: 0.8568 - val_loss: 0.5428\n",
      "Epoch 60/100\n",
      "\u001b[1m945/945\u001b[0m \u001b[32m━━━━━━━━━━━━━━━━━━━━\u001b[0m\u001b[37m\u001b[0m \u001b[1m2s\u001b[0m 2ms/step - accuracy: 0.8567 - loss: 0.5401 - val_accuracy: 0.8580 - val_loss: 0.5350\n",
      "Epoch 61/100\n",
      "\u001b[1m945/945\u001b[0m \u001b[32m━━━━━━━━━━━━━━━━━━━━\u001b[0m\u001b[37m\u001b[0m \u001b[1m2s\u001b[0m 2ms/step - accuracy: 0.8571 - loss: 0.5355 - val_accuracy: 0.8592 - val_loss: 0.5279\n",
      "Epoch 62/100\n",
      "\u001b[1m945/945\u001b[0m \u001b[32m━━━━━━━━━━━━━━━━━━━━\u001b[0m\u001b[37m\u001b[0m \u001b[1m2s\u001b[0m 2ms/step - accuracy: 0.8571 - loss: 0.5236 - val_accuracy: 0.8604 - val_loss: 0.5213\n",
      "Epoch 63/100\n",
      "\u001b[1m945/945\u001b[0m \u001b[32m━━━━━━━━━━━━━━━━━━━━\u001b[0m\u001b[37m\u001b[0m \u001b[1m2s\u001b[0m 2ms/step - accuracy: 0.8618 - loss: 0.5191 - val_accuracy: 0.8613 - val_loss: 0.5146\n",
      "Epoch 64/100\n",
      "\u001b[1m945/945\u001b[0m \u001b[32m━━━━━━━━━━━━━━━━━━━━\u001b[0m\u001b[37m\u001b[0m \u001b[1m2s\u001b[0m 2ms/step - accuracy: 0.8654 - loss: 0.5064 - val_accuracy: 0.8610 - val_loss: 0.5083\n",
      "Epoch 65/100\n",
      "\u001b[1m945/945\u001b[0m \u001b[32m━━━━━━━━━━━━━━━━━━━━\u001b[0m\u001b[37m\u001b[0m \u001b[1m2s\u001b[0m 2ms/step - accuracy: 0.8631 - loss: 0.5052 - val_accuracy: 0.8613 - val_loss: 0.5026\n",
      "Epoch 66/100\n",
      "\u001b[1m945/945\u001b[0m \u001b[32m━━━━━━━━━━━━━━━━━━━━\u001b[0m\u001b[37m\u001b[0m \u001b[1m2s\u001b[0m 2ms/step - accuracy: 0.8641 - loss: 0.4938 - val_accuracy: 0.8631 - val_loss: 0.4965\n",
      "Epoch 67/100\n",
      "\u001b[1m945/945\u001b[0m \u001b[32m━━━━━━━━━━━━━━━━━━━━\u001b[0m\u001b[37m\u001b[0m \u001b[1m2s\u001b[0m 2ms/step - accuracy: 0.8612 - loss: 0.4944 - val_accuracy: 0.8655 - val_loss: 0.4910\n",
      "Epoch 68/100\n",
      "\u001b[1m945/945\u001b[0m \u001b[32m━━━━━━━━━━━━━━━━━━━━\u001b[0m\u001b[37m\u001b[0m \u001b[1m2s\u001b[0m 2ms/step - accuracy: 0.8671 - loss: 0.4855 - val_accuracy: 0.8661 - val_loss: 0.4857\n",
      "Epoch 69/100\n",
      "\u001b[1m945/945\u001b[0m \u001b[32m━━━━━━━━━━━━━━━━━━━━\u001b[0m\u001b[37m\u001b[0m \u001b[1m2s\u001b[0m 2ms/step - accuracy: 0.8695 - loss: 0.4767 - val_accuracy: 0.8649 - val_loss: 0.4811\n",
      "Epoch 70/100\n",
      "\u001b[1m945/945\u001b[0m \u001b[32m━━━━━━━━━━━━━━━━━━━━\u001b[0m\u001b[37m\u001b[0m \u001b[1m2s\u001b[0m 2ms/step - accuracy: 0.8676 - loss: 0.4787 - val_accuracy: 0.8670 - val_loss: 0.4758\n",
      "Epoch 71/100\n",
      "\u001b[1m945/945\u001b[0m \u001b[32m━━━━━━━━━━━━━━━━━━━━\u001b[0m\u001b[37m\u001b[0m \u001b[1m2s\u001b[0m 2ms/step - accuracy: 0.8749 - loss: 0.4639 - val_accuracy: 0.8673 - val_loss: 0.4710\n",
      "Epoch 72/100\n",
      "\u001b[1m945/945\u001b[0m \u001b[32m━━━━━━━━━━━━━━━━━━━━\u001b[0m\u001b[37m\u001b[0m \u001b[1m2s\u001b[0m 2ms/step - accuracy: 0.8709 - loss: 0.4640 - val_accuracy: 0.8676 - val_loss: 0.4665\n",
      "Epoch 73/100\n",
      "\u001b[1m945/945\u001b[0m \u001b[32m━━━━━━━━━━━━━━━━━━━━\u001b[0m\u001b[37m\u001b[0m \u001b[1m2s\u001b[0m 2ms/step - accuracy: 0.8756 - loss: 0.4590 - val_accuracy: 0.8702 - val_loss: 0.4621\n",
      "Epoch 74/100\n",
      "\u001b[1m945/945\u001b[0m \u001b[32m━━━━━━━━━━━━━━━━━━━━\u001b[0m\u001b[37m\u001b[0m \u001b[1m2s\u001b[0m 2ms/step - accuracy: 0.8731 - loss: 0.4608 - val_accuracy: 0.8702 - val_loss: 0.4576\n",
      "Epoch 75/100\n",
      "\u001b[1m945/945\u001b[0m \u001b[32m━━━━━━━━━━━━━━━━━━━━\u001b[0m\u001b[37m\u001b[0m \u001b[1m2s\u001b[0m 2ms/step - accuracy: 0.8702 - loss: 0.4614 - val_accuracy: 0.8714 - val_loss: 0.4539\n",
      "Epoch 76/100\n",
      "\u001b[1m945/945\u001b[0m \u001b[32m━━━━━━━━━━━━━━━━━━━━\u001b[0m\u001b[37m\u001b[0m \u001b[1m2s\u001b[0m 2ms/step - accuracy: 0.8756 - loss: 0.4472 - val_accuracy: 0.8717 - val_loss: 0.4500\n",
      "Epoch 77/100\n",
      "\u001b[1m945/945\u001b[0m \u001b[32m━━━━━━━━━━━━━━━━━━━━\u001b[0m\u001b[37m\u001b[0m \u001b[1m2s\u001b[0m 2ms/step - accuracy: 0.8758 - loss: 0.4475 - val_accuracy: 0.8750 - val_loss: 0.4461\n",
      "Epoch 78/100\n",
      "\u001b[1m945/945\u001b[0m \u001b[32m━━━━━━━━━━━━━━━━━━━━\u001b[0m\u001b[37m\u001b[0m \u001b[1m3s\u001b[0m 2ms/step - accuracy: 0.8760 - loss: 0.4412 - val_accuracy: 0.8759 - val_loss: 0.4423\n",
      "Epoch 79/100\n",
      "\u001b[1m945/945\u001b[0m \u001b[32m━━━━━━━━━━━━━━━━━━━━\u001b[0m\u001b[37m\u001b[0m \u001b[1m2s\u001b[0m 2ms/step - accuracy: 0.8777 - loss: 0.4387 - val_accuracy: 0.8774 - val_loss: 0.4392\n",
      "Epoch 80/100\n",
      "\u001b[1m945/945\u001b[0m \u001b[32m━━━━━━━━━━━━━━━━━━━━\u001b[0m\u001b[37m\u001b[0m \u001b[1m2s\u001b[0m 2ms/step - accuracy: 0.8818 - loss: 0.4307 - val_accuracy: 0.8774 - val_loss: 0.4353\n",
      "Epoch 81/100\n",
      "\u001b[1m945/945\u001b[0m \u001b[32m━━━━━━━━━━━━━━━━━━━━\u001b[0m\u001b[37m\u001b[0m \u001b[1m2s\u001b[0m 3ms/step - accuracy: 0.8799 - loss: 0.4321 - val_accuracy: 0.8804 - val_loss: 0.4324\n",
      "Epoch 82/100\n",
      "\u001b[1m945/945\u001b[0m \u001b[32m━━━━━━━━━━━━━━━━━━━━\u001b[0m\u001b[37m\u001b[0m \u001b[1m2s\u001b[0m 2ms/step - accuracy: 0.8806 - loss: 0.4238 - val_accuracy: 0.8783 - val_loss: 0.4297\n",
      "Epoch 83/100\n",
      "\u001b[1m945/945\u001b[0m \u001b[32m━━━━━━━━━━━━━━━━━━━━\u001b[0m\u001b[37m\u001b[0m \u001b[1m2s\u001b[0m 2ms/step - accuracy: 0.8799 - loss: 0.4284 - val_accuracy: 0.8818 - val_loss: 0.4260\n",
      "Epoch 84/100\n",
      "\u001b[1m945/945\u001b[0m \u001b[32m━━━━━━━━━━━━━━━━━━━━\u001b[0m\u001b[37m\u001b[0m \u001b[1m2s\u001b[0m 2ms/step - accuracy: 0.8859 - loss: 0.4180 - val_accuracy: 0.8786 - val_loss: 0.4229\n",
      "Epoch 85/100\n",
      "\u001b[1m945/945\u001b[0m \u001b[32m━━━━━━━━━━━━━━━━━━━━\u001b[0m\u001b[37m\u001b[0m \u001b[1m2s\u001b[0m 2ms/step - accuracy: 0.8843 - loss: 0.4188 - val_accuracy: 0.8801 - val_loss: 0.4209\n",
      "Epoch 86/100\n",
      "\u001b[1m945/945\u001b[0m \u001b[32m━━━━━━━━━━━━━━━━━━━━\u001b[0m\u001b[37m\u001b[0m \u001b[1m2s\u001b[0m 2ms/step - accuracy: 0.8782 - loss: 0.4282 - val_accuracy: 0.8821 - val_loss: 0.4175\n",
      "Epoch 87/100\n",
      "\u001b[1m945/945\u001b[0m \u001b[32m━━━━━━━━━━━━━━━━━━━━\u001b[0m\u001b[37m\u001b[0m \u001b[1m2s\u001b[0m 2ms/step - accuracy: 0.8860 - loss: 0.4074 - val_accuracy: 0.8821 - val_loss: 0.4154\n",
      "Epoch 88/100\n",
      "\u001b[1m945/945\u001b[0m \u001b[32m━━━━━━━━━━━━━━━━━━━━\u001b[0m\u001b[37m\u001b[0m \u001b[1m2s\u001b[0m 2ms/step - accuracy: 0.8861 - loss: 0.4044 - val_accuracy: 0.8821 - val_loss: 0.4129\n",
      "Epoch 89/100\n",
      "\u001b[1m945/945\u001b[0m \u001b[32m━━━━━━━━━━━━━━━━━━━━\u001b[0m\u001b[37m\u001b[0m \u001b[1m2s\u001b[0m 2ms/step - accuracy: 0.8826 - loss: 0.4142 - val_accuracy: 0.8842 - val_loss: 0.4098\n",
      "Epoch 90/100\n",
      "\u001b[1m945/945\u001b[0m \u001b[32m━━━━━━━━━━━━━━━━━━━━\u001b[0m\u001b[37m\u001b[0m \u001b[1m2s\u001b[0m 2ms/step - accuracy: 0.8886 - loss: 0.4021 - val_accuracy: 0.8842 - val_loss: 0.4073\n",
      "Epoch 91/100\n",
      "\u001b[1m945/945\u001b[0m \u001b[32m━━━━━━━━━━━━━━━━━━━━\u001b[0m\u001b[37m\u001b[0m \u001b[1m2s\u001b[0m 2ms/step - accuracy: 0.8843 - loss: 0.4077 - val_accuracy: 0.8830 - val_loss: 0.4055\n",
      "Epoch 92/100\n",
      "\u001b[1m945/945\u001b[0m \u001b[32m━━━━━━━━━━━━━━━━━━━━\u001b[0m\u001b[37m\u001b[0m \u001b[1m2s\u001b[0m 2ms/step - accuracy: 0.8869 - loss: 0.3985 - val_accuracy: 0.8836 - val_loss: 0.4036\n",
      "Epoch 93/100\n",
      "\u001b[1m945/945\u001b[0m \u001b[32m━━━━━━━━━━━━━━━━━━━━\u001b[0m\u001b[37m\u001b[0m \u001b[1m2s\u001b[0m 2ms/step - accuracy: 0.8881 - loss: 0.3923 - val_accuracy: 0.8848 - val_loss: 0.4010\n",
      "Epoch 94/100\n",
      "\u001b[1m945/945\u001b[0m \u001b[32m━━━━━━━━━━━━━━━━━━━━\u001b[0m\u001b[37m\u001b[0m \u001b[1m2s\u001b[0m 2ms/step - accuracy: 0.8865 - loss: 0.3987 - val_accuracy: 0.8845 - val_loss: 0.3991\n",
      "Epoch 95/100\n",
      "\u001b[1m945/945\u001b[0m \u001b[32m━━━━━━━━━━━━━━━━━━━━\u001b[0m\u001b[37m\u001b[0m \u001b[1m2s\u001b[0m 2ms/step - accuracy: 0.8880 - loss: 0.3938 - val_accuracy: 0.8833 - val_loss: 0.3970\n",
      "Epoch 96/100\n",
      "\u001b[1m945/945\u001b[0m \u001b[32m━━━━━━━━━━━━━━━━━━━━\u001b[0m\u001b[37m\u001b[0m \u001b[1m2s\u001b[0m 2ms/step - accuracy: 0.8891 - loss: 0.3935 - val_accuracy: 0.8848 - val_loss: 0.3941\n",
      "Epoch 97/100\n",
      "\u001b[1m945/945\u001b[0m \u001b[32m━━━━━━━━━━━━━━━━━━━━\u001b[0m\u001b[37m\u001b[0m \u001b[1m2s\u001b[0m 2ms/step - accuracy: 0.8876 - loss: 0.3912 - val_accuracy: 0.8860 - val_loss: 0.3921\n",
      "Epoch 98/100\n",
      "\u001b[1m945/945\u001b[0m \u001b[32m━━━━━━━━━━━━━━━━━━━━\u001b[0m\u001b[37m\u001b[0m \u001b[1m2s\u001b[0m 2ms/step - accuracy: 0.8899 - loss: 0.3898 - val_accuracy: 0.8857 - val_loss: 0.3906\n",
      "Epoch 99/100\n",
      "\u001b[1m945/945\u001b[0m \u001b[32m━━━━━━━━━━━━━━━━━━━━\u001b[0m\u001b[37m\u001b[0m \u001b[1m2s\u001b[0m 2ms/step - accuracy: 0.8907 - loss: 0.3794 - val_accuracy: 0.8875 - val_loss: 0.3886\n",
      "Epoch 100/100\n",
      "\u001b[1m945/945\u001b[0m \u001b[32m━━━━━━━━━━━━━━━━━━━━\u001b[0m\u001b[37m\u001b[0m \u001b[1m2s\u001b[0m 2ms/step - accuracy: 0.8890 - loss: 0.3899 - val_accuracy: 0.8881 - val_loss: 0.3870\n"
     ]
    }
   ],
   "source": [
    "history = model.fit(x_train, y_train, epochs=100, batch_size=32, validation_split=0.1,callbacks=[early_stop])"
   ]
  },
  {
   "cell_type": "markdown",
   "metadata": {},
   "source": [
    "# Metrics"
   ]
  },
  {
   "cell_type": "code",
   "execution_count": 19,
   "metadata": {},
   "outputs": [],
   "source": [
    "metrics = pd.DataFrame(model.history.history)"
   ]
  },
  {
   "cell_type": "code",
   "execution_count": 20,
   "metadata": {},
   "outputs": [
    {
     "data": {
      "text/plain": [
       "<Axes: >"
      ]
     },
     "execution_count": 20,
     "metadata": {},
     "output_type": "execute_result"
    },
    {
     "data": {
      "image/png": "[encoded data removed]",
      "text/plain": [
       "<Figure size 640x480 with 1 Axes>"
      ]
     },
     "metadata": {},
     "output_type": "display_data"
    }
   ],
   "source": [
    "metrics[['loss', 'val_loss']].plot()"
   ]
  },
  {
   "cell_type": "code",
   "execution_count": 21,
   "metadata": {},
   "outputs": [
    {
     "data": {
      "text/plain": [
       "<Axes: >"
      ]
     },
     "execution_count": 21,
     "metadata": {},
     "output_type": "execute_result"
    },
    {
     "data": {
      "image/png": "[encoded data removed]",
      "text/plain": [
       "<Figure size 640x480 with 1 Axes>"
      ]
     },
     "metadata": {},
     "output_type": "display_data"
    }
   ],
   "source": [
    "metrics[['accuracy', 'val_accuracy']].plot()"
   ]
  },
  {
   "cell_type": "code",
   "execution_count": 22,
   "metadata": {},
   "outputs": [
    {
     "name": "stderr",
     "output_type": "stream",
     "text": [
      "WARNING:absl:You are saving your model as an HDF5 file via `model.save()` or `keras.saving.save_model(model)`. This file format is considered legacy. We recommend using instead the native Keras format, e.g. `model.save('my_model.keras')` or `keras.saving.save_model(model, 'my_model.keras')`. \n"
     ]
    }
   ],
   "source": [
    "model.save(\"model/mnist_ann.h5\")"
   ]
  },
  {
   "cell_type": "code",
   "execution_count": 23,
   "metadata": {},
   "outputs": [
    {
     "name": "stderr",
     "output_type": "stream",
     "text": [
      "WARNING:absl:Compiled the loaded model, but the compiled metrics have yet to be built. `model.compile_metrics` will be empty until you train or evaluate the model.\n"
     ]
    }
   ],
   "source": [
    "from keras.models import load_model\n",
    "model= load_model(\"model/mnist_ann.h5\")"
   ]
  },
  {
   "cell_type": "markdown",
   "metadata": {},
   "source": [
    "# Predict on Test data"
   ]
  },
  {
   "cell_type": "code",
   "execution_count": 33,
   "metadata": {},
   "outputs": [],
   "source": [
    "y_pred = np.argmax(y_pred, axis=1)"
   ]
  },
  {
   "cell_type": "code",
   "execution_count": 34,
   "metadata": {},
   "outputs": [
    {
     "data": {
      "text/plain": [
       "array([1, 9, 6, ..., 1, 5, 0], dtype=int64)"
      ]
     },
     "execution_count": 34,
     "metadata": {},
     "output_type": "execute_result"
    }
   ],
   "source": [
    "y_pred"
   ]
  },
  {
   "cell_type": "markdown",
   "metadata": {},
   "source": [
    "# Model Evaluation"
   ]
  },
  {
   "cell_type": "code",
   "execution_count": 35,
   "metadata": {},
   "outputs": [],
   "source": [
    "from sklearn.metrics import accuracy_score,recall_score, precision_score, f1_score,classification_report"
   ]
  },
  {
   "cell_type": "code",
   "execution_count": 36,
   "metadata": {},
   "outputs": [
    {
     "name": "stdout",
     "output_type": "stream",
     "text": [
      "Model's acuracy : 0.8895238095238095\n",
      "Recall-Score : 0.8876037498314829\n",
      "Precision-Score : 0.8875902008780742\n",
      "F1-Score : 0.8875015793981046\n"
     ]
    }
   ],
   "source": [
    "print(\"Model's acuracy :\", accuracy_score(y_pred,y_test))\n",
    "print(\"Recall-Score :\",recall_score(y_pred,y_test,average=\"macro\"))\n",
    "print(\"Precision-Score :\",precision_score(y_pred,y_test,average=\"macro\"))\n",
    "print(\"F1-Score :\",f1_score(y_pred,y_test,average=\"macro\"))"
   ]
  },
  {
   "cell_type": "code",
   "execution_count": 37,
   "metadata": {},
   "outputs": [
    {
     "name": "stdout",
     "output_type": "stream",
     "text": [
      "              precision    recall  f1-score   support\n",
      "\n",
      "           0       0.96      0.95      0.95       863\n",
      "           1       0.96      0.93      0.95       958\n",
      "           2       0.86      0.88      0.87       837\n",
      "           3       0.86      0.88      0.87       854\n",
      "           4       0.88      0.89      0.89       822\n",
      "           5       0.82      0.85      0.83       741\n",
      "           6       0.92      0.91      0.91       823\n",
      "           7       0.91      0.92      0.92       898\n",
      "           8       0.85      0.84      0.84       783\n",
      "           9       0.85      0.83      0.84       821\n",
      "\n",
      "    accuracy                           0.89      8400\n",
      "   macro avg       0.89      0.89      0.89      8400\n",
      "weighted avg       0.89      0.89      0.89      8400\n",
      "\n"
     ]
    }
   ],
   "source": [
    "print(classification_report(y_pred,y_test))"
   ]
  },
  {
   "cell_type": "markdown",
   "metadata": {},
   "source": [
    "# Predict"
   ]
  },
  {
   "cell_type": "code",
   "execution_count": 38,
   "metadata": {},
   "outputs": [],
   "source": [
    "def classify_image(image):\n",
    "    plt.imshow(cv2.resize(image(28, 28)), cmap='gray')\n",
    "    image = image.reshape(1, -1)\n",
    "\n",
    "    prediction = np.argmax(model.predict(image))\n",
    "    return prediction"
   ]
  },
  {
   "cell_type": "code",
   "execution_count": 41,
   "metadata": {},
   "outputs": [
    {
     "ename": "TypeError",
     "evalue": "'numpy.ndarray' object is not callable",
     "output_type": "error",
     "traceback": [
      "\u001b[1;31m---------------------------------------------------------------------------\u001b[0m",
      "\u001b[1;31mTypeError\u001b[0m                                 Traceback (most recent call last)",
      "Cell \u001b[1;32mIn[41], line 1\u001b[0m\n\u001b[1;32m----> 1\u001b[0m \u001b[43mclassify_image\u001b[49m\u001b[43m(\u001b[49m\u001b[43mx_test\u001b[49m\u001b[43m[\u001b[49m\u001b[38;5;241;43m0\u001b[39;49m\u001b[43m]\u001b[49m\u001b[43m)\u001b[49m\n",
      "Cell \u001b[1;32mIn[38], line 2\u001b[0m, in \u001b[0;36mclassify_image\u001b[1;34m(image)\u001b[0m\n\u001b[0;32m      1\u001b[0m \u001b[38;5;28;01mdef\u001b[39;00m \u001b[38;5;21mclassify_image\u001b[39m(image):\n\u001b[1;32m----> 2\u001b[0m     plt\u001b[38;5;241m.\u001b[39mimshow(cv2\u001b[38;5;241m.\u001b[39mresize(\u001b[43mimage\u001b[49m\u001b[43m(\u001b[49m\u001b[38;5;241;43m28\u001b[39;49m\u001b[43m,\u001b[49m\u001b[43m \u001b[49m\u001b[38;5;241;43m28\u001b[39;49m\u001b[43m)\u001b[49m), cmap\u001b[38;5;241m=\u001b[39m\u001b[38;5;124m'\u001b[39m\u001b[38;5;124mgray\u001b[39m\u001b[38;5;124m'\u001b[39m)\n\u001b[0;32m      3\u001b[0m     image \u001b[38;5;241m=\u001b[39m image\u001b[38;5;241m.\u001b[39mreshape(\u001b[38;5;241m1\u001b[39m, \u001b[38;5;241m-\u001b[39m\u001b[38;5;241m1\u001b[39m)\n\u001b[0;32m      5\u001b[0m     prediction \u001b[38;5;241m=\u001b[39m np\u001b[38;5;241m.\u001b[39margmax(model\u001b[38;5;241m.\u001b[39mpredict(image))\n",
      "\u001b[1;31mTypeError\u001b[0m: 'numpy.ndarray' object is not callable"
     ]
    }
   ],
   "source": [
    "classify_image(x_test[0])"
   ]
  },
  {
   "cell_type": "markdown",
   "metadata": {},
   "source": [
    "# Custom"
   ]
  },
  {
   "cell_type": "code",
   "execution_count": 42,
   "metadata": {},
   "outputs": [],
   "source": [
    "def classify_image_custom(image):\n",
    "    image = cv2.resize(image, (28, 28))\n",
    "\n",
    "    plt.imshow(image, cmap='gray')\n",
    "    image = tf.keras.utils.normalize(image, axis=1)\n",
    "\n",
    "    image = image.flatten()\n",
    "    print(image)\n",
    "    image = np.expand_dims(image, axis=0)\n",
    "    print(image)\n",
    "    print(image.shape)\n",
    "\n",
    "    prediction = np.argmax(model.predict(image))\n",
    "    return prediction"
   ]
  },
  {
   "cell_type": "code",
   "execution_count": 43,
   "metadata": {},
   "outputs": [
    {
     "name": "stdout",
     "output_type": "stream",
     "text": [
      "[0.         0.         0.         0.         0.         0.\n",
      " 0.         0.         0.43905704 0.         0.         0.\n",
      " 0.32929278 0.         0.         0.21952852 0.         0.\n",
      " 0.         0.5488213  0.21952852 0.         0.         0.5488213\n",
      " 0.         0.         0.         0.         0.         0.\n",
      " 0.         0.         0.         0.         0.         0.\n",
      " 0.         0.         0.45807867 0.687118   0.22903933 0.\n",
      " 0.         0.28629917 0.05725983 0.         0.11451967 0.28629917\n",
      " 0.28629917 0.05725983 0.         0.         0.         0.\n",
      " 0.         0.         0.         0.         0.         0.\n",
      " 0.         0.         0.         0.         0.52915026 0.\n",
      " 0.         0.37796447 0.         0.         0.15118579 0.\n",
      " 0.52915026 0.30237158 0.         0.         0.         0.30237158\n",
      " 0.30237158 0.         0.         0.         0.         0.\n",
      " 0.         0.         0.         0.         0.         0.\n",
      " 0.         0.         0.8131434  0.         0.         0.\n",
      " 0.         0.29568851 0.44353276 0.         0.07392213 0.14784425\n",
      " 0.         0.         0.         0.14784425 0.07392213 0.\n",
      " 0.         0.         0.         0.         0.         0.\n",
      " 0.         0.         0.         0.         0.         0.\n",
      " 0.         0.05423261 0.48809353 0.54232614 0.05423261 0.\n",
      " 0.10846523 0.10846523 0.         0.05423261 0.3796283  0.3796283\n",
      " 0.27116307 0.21693046 0.16269784 0.         0.         0.\n",
      " 0.         0.         0.         0.         0.         0.\n",
      " 0.         0.         0.         0.         0.         0.\n",
      " 0.         0.         0.         0.36514837 0.         0.54772256\n",
      " 0.18257419 0.         0.         0.         0.         0.\n",
      " 0.         0.73029674 0.         0.         0.         0.\n",
      " 0.         0.         0.         0.         0.         0.\n",
      " 0.         0.         0.         0.07113735 0.05532905 0.11065811\n",
      " 0.3201181  0.37939923 0.3201181  0.34778262 0.35963885 0.32802225\n",
      " 0.3201181  0.3201181  0.24107659 0.09880188 0.00395208 0.\n",
      " 0.         0.         0.         0.         0.         0.\n",
      " 0.         0.         0.         0.         0.         0.\n",
      " 0.01524924 0.10420315 0.15884626 0.21857246 0.31260945 0.32404638\n",
      " 0.3062556  0.32404638 0.31260945 0.31006791 0.32404638 0.32404638\n",
      " 0.27956942 0.16774165 0.06353851 0.0127077  0.         0.\n",
      " 0.         0.         0.         0.00852789 0.         0.\n",
      " 0.01279184 0.         0.         0.08954288 0.17162385 0.25157284\n",
      " 0.26756264 0.27182659 0.26649666 0.27182659 0.26543067 0.26223271\n",
      " 0.27182659 0.25263883 0.26649666 0.2632987  0.27182659 0.25050686\n",
      " 0.22598916 0.05862926 0.         0.         0.01172585 0.00639592\n",
      " 0.         0.         0.00102969 0.00514845 0.00205938 0.\n",
      " 0.01956413 0.12459259 0.26257117 0.25124457 0.25742271 0.25742271\n",
      " 0.23991797 0.24918519 0.26257117 0.26257117 0.23785859 0.25948209\n",
      " 0.26257117 0.2584524  0.24094766 0.26257117 0.25948209 0.08752372\n",
      " 0.01647505 0.00308907 0.         0.         0.01425692 0.\n",
      " 0.         0.01036867 0.         0.         0.14904966 0.324021\n",
      " 0.32013275 0.29809932 0.33050142 0.27347373 0.2838424  0.27476981\n",
      " 0.26310505 0.23199904 0.00518434 0.01684909 0.         0.00648042\n",
      " 0.07646896 0.30846799 0.32661317 0.09979847 0.         0.\n",
      " 0.         0.00388825 0.         0.0061773  0.00308865 0.\n",
      " 0.01081027 0.10192543 0.35982764 0.39071414 0.39380279 0.39380279\n",
      " 0.31813088 0.         0.00308865 0.00926595 0.         0.\n",
      " 0.         0.0123546  0.         0.00926595 0.04787406 0.30114331\n",
      " 0.39071414 0.2192941  0.03706379 0.02162055 0.00463297 0.00463297\n",
      " 0.         0.00619879 0.00309939 0.00309939 0.00619879 0.0464909\n",
      " 0.37967571 0.39517267 0.37347692 0.38897389 0.30993935 0.\n",
      " 0.00464909 0.00774848 0.         0.         0.01704666 0.01394727\n",
      " 0.         0.         0.         0.13947271 0.36417874 0.39517267\n",
      " 0.04184181 0.         0.00464909 0.         0.02204639 0.\n",
      " 0.         0.01002109 0.         0.08417713 0.48101215 0.51107541\n",
      " 0.28459886 0.19040064 0.16434582 0.0120253  0.         0.\n",
      " 0.0120253  0.00801687 0.00200422 0.         0.         0.01803796\n",
      " 0.01803796 0.06012652 0.33069585 0.47700372 0.11824882 0.\n",
      " 0.         0.         0.         0.01185165 0.         0.\n",
      " 0.01580219 0.42665923 0.50369492 0.26666202 0.02765384 0.\n",
      " 0.         0.00987637 0.         0.         0.0079011  0.\n",
      " 0.00592582 0.01382692 0.         0.         0.         0.\n",
      " 0.27456311 0.50369492 0.40098066 0.03753021 0.01777747 0.\n",
      " 0.         0.00191725 0.00766902 0.         0.00575176 0.48889974\n",
      " 0.42754762 0.21281518 0.         0.04409684 0.         0.\n",
      " 0.         0.01917254 0.         0.         0.         0.02300705\n",
      " 0.         0.         0.00383451 0.04217959 0.27225005 0.47931347\n",
      " 0.47356171 0.00575176 0.         0.00191725 0.         0.00579949\n",
      " 0.         0.         0.         0.49295637 0.28610801 0.02513111\n",
      " 0.00579949 0.         0.         0.0154653  0.         0.\n",
      " 0.00386632 0.         0.         0.00386632 0.00966581 0.\n",
      " 0.18751674 0.28804118 0.45429313 0.49295637 0.32477126 0.03286376\n",
      " 0.         0.         0.00965993 0.         0.00482997 0.0144899\n",
      " 0.00482997 0.38639729 0.36546744 0.08371941 0.         0.00965993\n",
      " 0.00804994 0.00160999 0.         0.         0.02253984 0.\n",
      " 0.         0.         0.16743882 0.20607855 0.39444723 0.38800728\n",
      " 0.41054712 0.39283724 0.09659932 0.         0.         0.01609989\n",
      " 0.         0.         0.         0.         0.         0.33051169\n",
      " 0.32921557 0.26570548 0.06739846 0.02462636 0.         0.\n",
      " 0.         0.0375876  0.15035042 0.2242295  0.22293338 0.24496749\n",
      " 0.26959385 0.30977371 0.33051169 0.33051169 0.31755045 0.18534577\n",
      " 0.0051845  0.         0.01684962 0.00259225 0.00918724 0.00918724\n",
      " 0.         0.         0.02756173 0.24703474 0.25520118 0.25520118\n",
      " 0.22866025 0.21130657 0.20518174 0.22763945 0.21845221 0.20416094\n",
      " 0.2388683  0.2603052  0.25724278 0.23376428 0.25826359 0.25213876\n",
      " 0.25724278 0.25928439 0.13168381 0.02347851 0.00816644 0.00918724\n",
      " 0.01327046 0.         0.         0.00104616 0.00732311 0.\n",
      " 0.         0.0408002  0.26363208 0.26677056 0.25212433 0.2657244\n",
      " 0.2657244  0.26677056 0.26258592 0.26677056 0.26677056 0.26153976\n",
      " 0.26677056 0.26258592 0.26677056 0.23329347 0.19040095 0.\n",
      " 0.         0.00209232 0.         0.00209232 0.00104616 0.\n",
      " 0.02007708 0.01129336 0.         0.         0.01505781 0.02635117\n",
      " 0.22210274 0.25598282 0.31997853 0.31997853 0.30241108 0.31244962\n",
      " 0.30617553 0.29613699 0.30993998 0.29864662 0.19324193 0.2120642\n",
      " 0.20077084 0.01254818 0.013803   0.01003854 0.00878372 0.\n",
      " 0.         0.         0.         0.         0.         0.\n",
      " 0.00204171 0.00612513 0.00204171 0.01837538 0.         0.11841915\n",
      " 0.23275487 0.22867145 0.33279863 0.51655248 0.51655248 0.35117402\n",
      " 0.25317197 0.21437949 0.00612513 0.02858393 0.         0.01429197\n",
      " 0.00204171 0.         0.         0.00204171 0.01020855 0.01225026\n",
      " 0.00408342 0.00204171 0.09394849 0.         0.         0.04270386\n",
      " 0.         0.         0.03416309 0.         0.0597854  0.\n",
      " 0.14519312 0.68326173 0.66618019 0.19643775 0.03416309 0.\n",
      " 0.07686695 0.         0.02562232 0.03416309 0.         0.\n",
      " 0.0597854  0.         0.         0.         0.         0.04270386\n",
      " 0.         0.         0.         0.         0.         0.\n",
      " 0.         0.         0.         0.         0.         0.\n",
      " 0.         0.         0.         0.         0.         0.\n",
      " 0.         0.         0.         0.         0.         0.\n",
      " 0.         0.         0.         0.         0.         0.\n",
      " 0.         0.         0.         0.         0.         0.\n",
      " 0.         0.         0.         0.         0.         0.\n",
      " 0.         0.         0.         0.         0.         0.\n",
      " 0.         0.         0.         0.         0.         0.\n",
      " 0.         0.         0.         0.         0.         0.\n",
      " 0.         0.         0.         0.         0.         0.\n",
      " 0.         0.         0.         0.         0.         0.\n",
      " 0.         0.         0.         0.         0.         0.\n",
      " 0.         0.         0.         0.         0.         0.\n",
      " 0.         0.         0.         0.         0.         0.\n",
      " 0.         0.         0.         0.         0.         0.\n",
      " 0.         0.         0.         0.         0.         0.\n",
      " 0.         0.         0.         0.         0.         0.\n",
      " 0.         0.         0.         0.        ]\n",
      "[[0.         0.         0.         0.         0.         0.\n",
      "  0.         0.         0.43905704 0.         0.         0.\n",
      "  0.32929278 0.         0.         0.21952852 0.         0.\n",
      "  0.         0.5488213  0.21952852 0.         0.         0.5488213\n",
      "  0.         0.         0.         0.         0.         0.\n",
      "  0.         0.         0.         0.         0.         0.\n",
      "  0.         0.         0.45807867 0.687118   0.22903933 0.\n",
      "  0.         0.28629917 0.05725983 0.         0.11451967 0.28629917\n",
      "  0.28629917 0.05725983 0.         0.         0.         0.\n",
      "  0.         0.         0.         0.         0.         0.\n",
      "  0.         0.         0.         0.         0.52915026 0.\n",
      "  0.         0.37796447 0.         0.         0.15118579 0.\n",
      "  0.52915026 0.30237158 0.         0.         0.         0.30237158\n",
      "  0.30237158 0.         0.         0.         0.         0.\n",
      "  0.         0.         0.         0.         0.         0.\n",
      "  0.         0.         0.8131434  0.         0.         0.\n",
      "  0.         0.29568851 0.44353276 0.         0.07392213 0.14784425\n",
      "  0.         0.         0.         0.14784425 0.07392213 0.\n",
      "  0.         0.         0.         0.         0.         0.\n",
      "  0.         0.         0.         0.         0.         0.\n",
      "  0.         0.05423261 0.48809353 0.54232614 0.05423261 0.\n",
      "  0.10846523 0.10846523 0.         0.05423261 0.3796283  0.3796283\n",
      "  0.27116307 0.21693046 0.16269784 0.         0.         0.\n",
      "  0.         0.         0.         0.         0.         0.\n",
      "  0.         0.         0.         0.         0.         0.\n",
      "  0.         0.         0.         0.36514837 0.         0.54772256\n",
      "  0.18257419 0.         0.         0.         0.         0.\n",
      "  0.         0.73029674 0.         0.         0.         0.\n",
      "  0.         0.         0.         0.         0.         0.\n",
      "  0.         0.         0.         0.07113735 0.05532905 0.11065811\n",
      "  0.3201181  0.37939923 0.3201181  0.34778262 0.35963885 0.32802225\n",
      "  0.3201181  0.3201181  0.24107659 0.09880188 0.00395208 0.\n",
      "  0.         0.         0.         0.         0.         0.\n",
      "  0.         0.         0.         0.         0.         0.\n",
      "  0.01524924 0.10420315 0.15884626 0.21857246 0.31260945 0.32404638\n",
      "  0.3062556  0.32404638 0.31260945 0.31006791 0.32404638 0.32404638\n",
      "  0.27956942 0.16774165 0.06353851 0.0127077  0.         0.\n",
      "  0.         0.         0.         0.00852789 0.         0.\n",
      "  0.01279184 0.         0.         0.08954288 0.17162385 0.25157284\n",
      "  0.26756264 0.27182659 0.26649666 0.27182659 0.26543067 0.26223271\n",
      "  0.27182659 0.25263883 0.26649666 0.2632987  0.27182659 0.25050686\n",
      "  0.22598916 0.05862926 0.         0.         0.01172585 0.00639592\n",
      "  0.         0.         0.00102969 0.00514845 0.00205938 0.\n",
      "  0.01956413 0.12459259 0.26257117 0.25124457 0.25742271 0.25742271\n",
      "  0.23991797 0.24918519 0.26257117 0.26257117 0.23785859 0.25948209\n",
      "  0.26257117 0.2584524  0.24094766 0.26257117 0.25948209 0.08752372\n",
      "  0.01647505 0.00308907 0.         0.         0.01425692 0.\n",
      "  0.         0.01036867 0.         0.         0.14904966 0.324021\n",
      "  0.32013275 0.29809932 0.33050142 0.27347373 0.2838424  0.27476981\n",
      "  0.26310505 0.23199904 0.00518434 0.01684909 0.         0.00648042\n",
      "  0.07646896 0.30846799 0.32661317 0.09979847 0.         0.\n",
      "  0.         0.00388825 0.         0.0061773  0.00308865 0.\n",
      "  0.01081027 0.10192543 0.35982764 0.39071414 0.39380279 0.39380279\n",
      "  0.31813088 0.         0.00308865 0.00926595 0.         0.\n",
      "  0.         0.0123546  0.         0.00926595 0.04787406 0.30114331\n",
      "  0.39071414 0.2192941  0.03706379 0.02162055 0.00463297 0.00463297\n",
      "  0.         0.00619879 0.00309939 0.00309939 0.00619879 0.0464909\n",
      "  0.37967571 0.39517267 0.37347692 0.38897389 0.30993935 0.\n",
      "  0.00464909 0.00774848 0.         0.         0.01704666 0.01394727\n",
      "  0.         0.         0.         0.13947271 0.36417874 0.39517267\n",
      "  0.04184181 0.         0.00464909 0.         0.02204639 0.\n",
      "  0.         0.01002109 0.         0.08417713 0.48101215 0.51107541\n",
      "  0.28459886 0.19040064 0.16434582 0.0120253  0.         0.\n",
      "  0.0120253  0.00801687 0.00200422 0.         0.         0.01803796\n",
      "  0.01803796 0.06012652 0.33069585 0.47700372 0.11824882 0.\n",
      "  0.         0.         0.         0.01185165 0.         0.\n",
      "  0.01580219 0.42665923 0.50369492 0.26666202 0.02765384 0.\n",
      "  0.         0.00987637 0.         0.         0.0079011  0.\n",
      "  0.00592582 0.01382692 0.         0.         0.         0.\n",
      "  0.27456311 0.50369492 0.40098066 0.03753021 0.01777747 0.\n",
      "  0.         0.00191725 0.00766902 0.         0.00575176 0.48889974\n",
      "  0.42754762 0.21281518 0.         0.04409684 0.         0.\n",
      "  0.         0.01917254 0.         0.         0.         0.02300705\n",
      "  0.         0.         0.00383451 0.04217959 0.27225005 0.47931347\n",
      "  0.47356171 0.00575176 0.         0.00191725 0.         0.00579949\n",
      "  0.         0.         0.         0.49295637 0.28610801 0.02513111\n",
      "  0.00579949 0.         0.         0.0154653  0.         0.\n",
      "  0.00386632 0.         0.         0.00386632 0.00966581 0.\n",
      "  0.18751674 0.28804118 0.45429313 0.49295637 0.32477126 0.03286376\n",
      "  0.         0.         0.00965993 0.         0.00482997 0.0144899\n",
      "  0.00482997 0.38639729 0.36546744 0.08371941 0.         0.00965993\n",
      "  0.00804994 0.00160999 0.         0.         0.02253984 0.\n",
      "  0.         0.         0.16743882 0.20607855 0.39444723 0.38800728\n",
      "  0.41054712 0.39283724 0.09659932 0.         0.         0.01609989\n",
      "  0.         0.         0.         0.         0.         0.33051169\n",
      "  0.32921557 0.26570548 0.06739846 0.02462636 0.         0.\n",
      "  0.         0.0375876  0.15035042 0.2242295  0.22293338 0.24496749\n",
      "  0.26959385 0.30977371 0.33051169 0.33051169 0.31755045 0.18534577\n",
      "  0.0051845  0.         0.01684962 0.00259225 0.00918724 0.00918724\n",
      "  0.         0.         0.02756173 0.24703474 0.25520118 0.25520118\n",
      "  0.22866025 0.21130657 0.20518174 0.22763945 0.21845221 0.20416094\n",
      "  0.2388683  0.2603052  0.25724278 0.23376428 0.25826359 0.25213876\n",
      "  0.25724278 0.25928439 0.13168381 0.02347851 0.00816644 0.00918724\n",
      "  0.01327046 0.         0.         0.00104616 0.00732311 0.\n",
      "  0.         0.0408002  0.26363208 0.26677056 0.25212433 0.2657244\n",
      "  0.2657244  0.26677056 0.26258592 0.26677056 0.26677056 0.26153976\n",
      "  0.26677056 0.26258592 0.26677056 0.23329347 0.19040095 0.\n",
      "  0.         0.00209232 0.         0.00209232 0.00104616 0.\n",
      "  0.02007708 0.01129336 0.         0.         0.01505781 0.02635117\n",
      "  0.22210274 0.25598282 0.31997853 0.31997853 0.30241108 0.31244962\n",
      "  0.30617553 0.29613699 0.30993998 0.29864662 0.19324193 0.2120642\n",
      "  0.20077084 0.01254818 0.013803   0.01003854 0.00878372 0.\n",
      "  0.         0.         0.         0.         0.         0.\n",
      "  0.00204171 0.00612513 0.00204171 0.01837538 0.         0.11841915\n",
      "  0.23275487 0.22867145 0.33279863 0.51655248 0.51655248 0.35117402\n",
      "  0.25317197 0.21437949 0.00612513 0.02858393 0.         0.01429197\n",
      "  0.00204171 0.         0.         0.00204171 0.01020855 0.01225026\n",
      "  0.00408342 0.00204171 0.09394849 0.         0.         0.04270386\n",
      "  0.         0.         0.03416309 0.         0.0597854  0.\n",
      "  0.14519312 0.68326173 0.66618019 0.19643775 0.03416309 0.\n",
      "  0.07686695 0.         0.02562232 0.03416309 0.         0.\n",
      "  0.0597854  0.         0.         0.         0.         0.04270386\n",
      "  0.         0.         0.         0.         0.         0.\n",
      "  0.         0.         0.         0.         0.         0.\n",
      "  0.         0.         0.         0.         0.         0.\n",
      "  0.         0.         0.         0.         0.         0.\n",
      "  0.         0.         0.         0.         0.         0.\n",
      "  0.         0.         0.         0.         0.         0.\n",
      "  0.         0.         0.         0.         0.         0.\n",
      "  0.         0.         0.         0.         0.         0.\n",
      "  0.         0.         0.         0.         0.         0.\n",
      "  0.         0.         0.         0.         0.         0.\n",
      "  0.         0.         0.         0.         0.         0.\n",
      "  0.         0.         0.         0.         0.         0.\n",
      "  0.         0.         0.         0.         0.         0.\n",
      "  0.         0.         0.         0.         0.         0.\n",
      "  0.         0.         0.         0.         0.         0.\n",
      "  0.         0.         0.         0.         0.         0.\n",
      "  0.         0.         0.         0.         0.         0.\n",
      "  0.         0.         0.         0.         0.         0.\n",
      "  0.         0.         0.         0.        ]]\n",
      "(1, 784)\n",
      "\u001b[1m1/1\u001b[0m \u001b[32m━━━━━━━━━━━━━━━━━━━━\u001b[0m\u001b[37m\u001b[0m \u001b[1m0s\u001b[0m 33ms/step\n"
     ]
    },
    {
     "data": {
      "text/plain": [
       "0"
      ]
     },
     "execution_count": 43,
     "metadata": {},
     "output_type": "execute_result"
    },
    {
     "data": {
      "image/png": "[encoded data removed]",
      "text/plain": [
       "<Figure size 640x480 with 1 Axes>"
      ]
     },
     "metadata": {},
     "output_type": "display_data"
    }
   ],
   "source": [
    "img = cv2.imread('data/test/img_2.jpg', cv2.IMREAD_GRAYSCALE)\n",
    "classify_image_custom(img)"
   ]
  },
  {
   "cell_type": "code",
   "execution_count": null,
   "metadata": {},
   "outputs": [],
   "source": []
  }
 ],
 "metadata": {
  "kernelspec": {
   "display_name": "primeai",
   "language": "python",
   "name": "python3"
  },
  "language_info": {
   "codemirror_mode": {
    "name": "ipython",
    "version": 3
   },
   "file_extension": ".py",
   "mimetype": "text/x-python",
   "name": "python",
   "nbconvert_exporter": "python",
   "pygments_lexer": "ipython3",
   "version": "3.11.9"
  }
 },
 "nbformat": 4,
 "nbformat_minor": 2
}
