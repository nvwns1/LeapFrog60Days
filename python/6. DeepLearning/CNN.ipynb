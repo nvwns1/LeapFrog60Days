{
 "cells": [
  {
   "cell_type": "markdown",
   "metadata": {},
   "source": [
    "## What is Computer Vision\n",
    "\n",
    "* Computer vision is a field of study focused on the problem of helping computers to see.\n",
    "* It aims to make computer process, analyse image and videos and extract details.\n"
   ]
  },
  {
   "cell_type": "markdown",
   "metadata": {},
   "source": [
    "# Convolutional Neural Network\n",
    "\n",
    "* CNN is a class of deep neural networks, most commonly applied to analyze the visual images.\n",
    "* This type of neural networks is used in application like image recognition"
   ]
  },
  {
   "cell_type": "markdown",
   "metadata": {},
   "source": [
    "### CNN Pipeline\n",
    "\n",
    "* Convolution\n",
    "* Pooling\n",
    "* Fully connected"
   ]
  },
  {
   "cell_type": "markdown",
   "metadata": {},
   "source": [
    "### key Concepts\n",
    "\n",
    "1. Convolutional Layers:\n",
    "* Convolutional  layer are the core building block of a CNN. These layers apply a convlution operation to the input data, passing the result to the next layers\n",
    "* Filter/ Kernels: Small matrices that slide over the input image and perform element-wise multiplication and summation.\n",
    "* Stride: The number of pixels by which the filter matrix shifts over the input matrix.\n",
    "* Padding: Adding zeros arout the matrix to ensure the filter fits properly.\n",
    "\n",
    "2. Activation functions:\n",
    "* After the convolution operation, an activation function is applied to introduce non-linearity into the model\n",
    "\n",
    "3. Pooling Layers:\n",
    "* Pooling layers reduce the dimensionality of the feature map, retaining the most importat information while reducing computational complexity.\n",
    "* Max Pooling: Takes the maximum value in a specified window. (eg. 2x2)\n",
    "* Average Pooling: Takes the average value in a specified window.\n",
    "\n",
    "4. Fully Connected Layers:\n",
    "* After several convolutional and pooling layers, the high-level reasoning in the neural network is done via fully connec layers. The output from the convolution/ pooling layers is flattened and passed through one or more fully connected layers\n",
    "\n",
    "5. Output layer:\n",
    "* The final layer of CNN is often a fuuly connected layer with a softmax function (for classification tasks) or linear activation function (for regression task)"
   ]
  },
  {
   "cell_type": "markdown",
   "metadata": {},
   "source": [
    "### CNN Architecture\n",
    "1. Input Layer: Raw image data\n",
    "2. Convolutional Layer: Extracts features from the input image\n",
    "3. Activation Layer: Applies non-linearity(eg. ReLU).\n",
    "4. Pooling Layer: Reduces dimensionality.\n",
    "5. Fully Connected Layer: Performs high-level reasoning.\n",
    "5. Output Layer: Generates the final prediction."
   ]
  },
  {
   "cell_type": "code",
   "execution_count": null,
   "metadata": {},
   "outputs": [],
   "source": []
  }
 ],
 "metadata": {
  "language_info": {
   "name": "python"
  }
 },
 "nbformat": 4,
 "nbformat_minor": 2
}
